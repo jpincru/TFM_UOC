{
  "cells": [
    {
      "cell_type": "markdown",
      "metadata": {
        "id": "view-in-github",
        "colab_type": "text"
      },
      "source": [
        "<a href=\"https://colab.research.google.com/github/jpincru/TFM_UOC/blob/main/MODELO_PREDICTIVO_2.ipynb\" target=\"_parent\"><img src=\"https://colab.research.google.com/assets/colab-badge.svg\" alt=\"Open In Colab\"/></a>"
      ]
    },
    {
      "cell_type": "code",
      "execution_count": null,
      "metadata": {
        "id": "VP7H2_lcODE-"
      },
      "outputs": [],
      "source": [
        "# ! pip install -q matplotlib tensorflow numpy"
      ]
    },
    {
      "cell_type": "code",
      "execution_count": null,
      "metadata": {
        "colab": {
          "base_uri": "https://localhost:8080/"
        },
        "id": "jGyJK_K6OM0f",
        "outputId": "c98ad9a2-0516-48da-f052-cc4142e4fdd0"
      },
      "outputs": [
        {
          "output_type": "stream",
          "name": "stdout",
          "text": [
            "Check GPU runtime type... \n",
            "OK!\n"
          ]
        }
      ],
      "source": [
        "#importación de librerias necesarias\n",
        "import numpy as np\n",
        "import tensorflow as tf\n",
        "from tensorflow import keras\n",
        "from tensorflow.keras.utils import to_categorical\n",
        "from tensorflow.keras.models import Sequential, Model\n",
        "from tensorflow.keras.layers import Dense, Conv2D, Flatten, Dropout, Activation, MaxPooling2D\n",
        "import matplotlib.pyplot as plt\n",
        "import os, sys\n",
        "from os import listdir\n",
        "from matplotlib import image\n",
        "from PIL import Image\n",
        "import cv2\n",
        "import pandas as pd\n",
        "import tensorflow as tf\n",
        "from tensorflow.keras import layers, Input\n",
        "from  matplotlib import pyplot as plt\n",
        "import matplotlib.image as mpimg\n",
        "from sklearn.metrics import roc_curve\n",
        "from sklearn.metrics import auc\n",
        "import seaborn as sns\n",
        "from keras import regularizers\n",
        "from tqdm import tqdm\n",
        "from keras.models import load_model\n",
        "from keras.callbacks import Callback\n",
        "\n",
        "%matplotlib inline\n",
        "\n",
        "print('Check GPU runtime type... ')\n",
        "if len(tf.config.list_physical_devices('GPU')) == 0:\n",
        "  print('Change Runtype Type in top menu for GPU acceleration')\n",
        "  print(' \"Runtime\" -> \"Change Runtime Type\" -> \"GPU\"')\n",
        "else:\n",
        "  print('OK!')"
      ]
    },
    {
      "cell_type": "markdown",
      "metadata": {
        "id": "o1jijBSt7MKS"
      },
      "source": [
        "1. Se monta el directorio de drive para cargar los archivos"
      ]
    },
    {
      "cell_type": "code",
      "execution_count": null,
      "metadata": {
        "colab": {
          "base_uri": "https://localhost:8080/"
        },
        "id": "InHf3UPGQsGB",
        "outputId": "40b87a08-1931-42f6-c739-51c61509e3c7"
      },
      "outputs": [
        {
          "output_type": "stream",
          "name": "stdout",
          "text": [
            "Mounted at /content/drive\n"
          ]
        }
      ],
      "source": [
        "from google.colab import drive\n",
        "\n",
        "drive.mount('/content/drive')"
      ]
    },
    {
      "cell_type": "markdown",
      "metadata": {
        "id": "bbiIWa3l7pJO"
      },
      "source": [
        "2. Se muestra una imagen de ejemplo"
      ]
    },
    {
      "cell_type": "code",
      "execution_count": null,
      "metadata": {
        "id": "2PZ7Q8pdO7xS"
      },
      "outputs": [],
      "source": [
        "# # %pylab inline\n",
        "# # import matplotlib.pyplot as plt\n",
        "# # import matplotlib.image as mpimg\n",
        "# img = mpimg.imread('/content/drive/MyDrive/Master bioinfo/TFM/BATCHTFM1/ko/MAX_tl81_sabas_AFA663_.Position 3-1_centered_0_div_0_z_163.tif')\n",
        "# imgplot = plt.imshow(img)\n",
        "# plt.show()\n",
        "\n",
        "\n",
        "# #Se comprueba la resolución y canales de una imagen:\n",
        "# print(img.shape)\n"
      ]
    },
    {
      "cell_type": "code",
      "execution_count": null,
      "metadata": {
        "colab": {
          "base_uri": "https://localhost:8080/",
          "height": 451
        },
        "id": "oT_Br12Z_GEy",
        "outputId": "8c7a50ca-b242-4819-8da8-dfa65e348a92"
      },
      "outputs": [
        {
          "output_type": "stream",
          "name": "stdout",
          "text": [
            "MAX_tl81_sabas_AFA663_Position 8-1_centered_0_div_0_z_73.tif\n"
          ]
        },
        {
          "output_type": "display_data",
          "data": {
            "text/plain": [
              "<Figure size 640x480 with 1 Axes>"
            ],
            "image/png": "[encoded data removed]"
          },
          "metadata": {}
        }
      ],
      "source": [
        "#Se usa como directorio principal un directorio que contiene los subdirectorios wt y mutant\n",
        "dataset = 'BATCH_DEF_6_MARZO'\n",
        "DATADIR = \"/content/drive/MyDrive/\"+ dataset +\"/\"\n",
        "CATEGORIES = ['wt','mutant']\n",
        "wt_folder = '/content/drive/MyDrive/'+dataset+'/wt/'\n",
        "mutant_folder = '/content/drive/MyDrive/'+dataset+'/mutant/'\n",
        "\n",
        "\n",
        "for category in CATEGORIES:\n",
        "  path = os.path.join(DATADIR,category)\n",
        "  for img in os.listdir(path):\n",
        "    print(img)\n",
        "    # img_array = cv2.imread(os.path.join(path,img), cv2.IMREAD_ANYCOLOR)\n",
        "    img_array = mpimg.imread(os.path.join(path,img))\n",
        "    # img_array = cv2.imread(os.path.join(path,img), cv2.IMREAD_ANYDEPTH)\n",
        "    # img_array2 = img_array.astype(np.uint8)\n",
        "    # plt.subplot(121)\n",
        "    plt.imshow(img_array,cmap =\"gray\")\n",
        "    # plt.subplot(122)\n",
        "    # plt.imshow(img_array2,cmap =\"gray\")\n",
        "    plt.show()\n",
        "    # print(img_array.dtype)\n",
        "    break\n",
        "  break\n"
      ]
    },
    {
      "cell_type": "code",
      "execution_count": null,
      "metadata": {
        "colab": {
          "base_uri": "https://localhost:8080/"
        },
        "id": "n-FAkTfn11iK",
        "outputId": "b60a7569-7828-4d1e-cb7f-681ff5c54188"
      },
      "outputs": [
        {
          "output_type": "stream",
          "name": "stdout",
          "text": [
            "Min. and max. values before normalization are 0 and 171.\n",
            "(100, 100)\n"
          ]
        }
      ],
      "source": [
        "v_min = np.min(img_array)\n",
        "v_max = np.max(img_array)\n",
        "print(\"Min. and max. values before normalization are {} and {}.\".format(v_min, v_max))\n",
        "\n",
        "#Se comprueba la resolución inicial una vez se han reducido las imagenes a un solo canal:\n",
        "print(img_array.shape)\n"
      ]
    },
    {
      "cell_type": "markdown",
      "metadata": {
        "id": "Z4QfKrsq8BA0"
      },
      "source": [
        "3. Se preprocesan las imágenes originales de 100x100x1 para convertirlas a 64x64x1.\n",
        "\n",
        "4. Se normaliza mediante transformación min-max."
      ]
    },
    {
      "cell_type": "code",
      "execution_count": null,
      "metadata": {
        "colab": {
          "base_uri": "https://localhost:8080/",
          "height": 468
        },
        "id": "AOxX-fkn15e7",
        "outputId": "cc220e50-731b-45f5-8748-06886082994c"
      },
      "outputs": [
        {
          "output_type": "stream",
          "name": "stdout",
          "text": [
            "Min. and max. values before normalization are 0 and 168.\n",
            "Min. and max. values after normalization are 0.0 and 1.0.\n"
          ]
        },
        {
          "output_type": "display_data",
          "data": {
            "text/plain": [
              "<Figure size 640x480 with 1 Axes>"
            ],
            "image/png": "[encoded data removed]"
          },
          "metadata": {}
        }
      ],
      "source": [
        "# Resize a tamaño 64x64\n",
        "IMG_SIZE = 64\n",
        "\n",
        "new_array = cv2.resize(img_array, (IMG_SIZE,IMG_SIZE))\n",
        "\n",
        "#Se muestra una imagen con la nueva resolución como ejemplo:\n",
        "plt.imshow(new_array,cmap ='gray')\n",
        "\n",
        "# normalización min max:\n",
        "\n",
        "v_min = np.min(new_array)\n",
        "v_max = np.max(new_array)\n",
        "print(\"Min. and max. values before normalization are {} and {}.\".format(v_min, v_max))\n",
        "\n",
        "# Normalization\n",
        "\n",
        "new_array_norm = (new_array - v_min) / (v_max - v_min)\n",
        "print(\"Min. and max. values after normalization are {} and {}.\".format(np.min(new_array_norm), np.max(new_array_norm)))"
      ]
    },
    {
      "cell_type": "code",
      "execution_count": null,
      "metadata": {
        "id": "doH_StY_2Rj1",
        "colab": {
          "base_uri": "https://localhost:8080/"
        },
        "outputId": "2e8ba4d1-4c65-4e9a-93fd-9c5b3c16984e"
      },
      "outputs": [
        {
          "output_type": "stream",
          "name": "stderr",
          "text": [
            "\r0it [00:00, ?it/s]"
          ]
        },
        {
          "output_type": "execute_result",
          "data": {
            "text/plain": [
              "<tqdm.std.tqdm at 0x788966cd6500>"
            ]
          },
          "metadata": {},
          "execution_count": 6
        }
      ],
      "source": [
        "#Se crean los datos que van a ser utilizados y se hace el resize y normalización para cada una de las imágenes\n",
        "\n",
        "data = []\n",
        "\n",
        "def create_data():\n",
        "  for category in CATEGORIES:\n",
        "    path = os.path.join(DATADIR,category)\n",
        "    class_num = CATEGORIES.index(category)\n",
        "    for img in os.listdir(path):\n",
        "      try:\n",
        "        # img_array = cv2.imread(os.path.join(path,img), cv2.IMREAD_ANYDEPTH)\n",
        "        # img_array = img_array.astype(np.uint8)\n",
        "        img_array = mpimg.imread(os.path.join(path,img))\n",
        "        new_array = cv2.resize(img_array, (IMG_SIZE,IMG_SIZE))\n",
        "\n",
        "        # Normalization\n",
        "        v_min = np.min(new_array)\n",
        "        v_max = np.max(new_array)\n",
        "        # print(\"Min. and max. values before normalization are {} and {}.\".format(v_min, v_max))\n",
        "\n",
        "        new_array_norm = (new_array - v_min) / (v_max - v_min)\n",
        "        # print(\"Min. and max. values after normalization are {} and {}.\".format(np.min(new_array_norm), np.max(new_array_norm)))\n",
        "        data.append([(new_array_norm), class_num])\n",
        "\n",
        "      except Exception as e:\n",
        "        pass\n",
        "tqdm(create_data())"
      ]
    },
    {
      "cell_type": "code",
      "source": [],
      "metadata": {
        "id": "aThr7t_T43H4"
      },
      "execution_count": null,
      "outputs": []
    },
    {
      "cell_type": "code",
      "source": [
        "# Se comprueba el tamaño de los datos\n",
        "len(data)"
      ],
      "metadata": {
        "colab": {
          "base_uri": "https://localhost:8080/"
        },
        "id": "UPr3NzKv45wx",
        "outputId": "030ac18d-cd5f-4651-b66f-463977df129a"
      },
      "execution_count": null,
      "outputs": [
        {
          "output_type": "execute_result",
          "data": {
            "text/plain": [
              "2920"
            ]
          },
          "metadata": {},
          "execution_count": 7
        }
      ]
    },
    {
      "cell_type": "code",
      "source": [
        "### PARA TEST Y TRAINING\n",
        "\n",
        "#Se mezclan las imagenes de wt y mutantes para posteriormente poder hacer un subset equilibrado para entrenamiento y test\n",
        "\n",
        "import random\n",
        "seed_value = 101\n",
        "random.seed(seed_value)\n",
        "random.shuffle(data)\n",
        "\n",
        "#Se comprueba que la proporción en training (0:75) y test(75:100) sea similar.\n",
        "n_total = len(data)\n",
        "n_75 = round(int(n_total*0.75))\n",
        "n_25 = round(int(n_total-n_75))\n",
        "\n",
        "mut = 0\n",
        "wt = 0\n",
        "\n",
        "for sample in data[0:n_75]:\n",
        "  if (sample[1] == 1):\n",
        "    mut +=1\n",
        "  elif (sample[1] == 0):\n",
        "    wt +=1\n",
        "print(mut)\n",
        "print(wt)\n",
        "\n",
        "mut = 0\n",
        "wt = 0\n",
        "\n",
        "for sample in data[n_75:n_total]:\n",
        "  if (sample[1] == 1):\n",
        "    mut +=1\n",
        "  elif (sample[1] == 0):\n",
        "    wt +=1\n",
        "print(mut)\n",
        "print(wt)\n",
        "\n",
        "X = []\n",
        "y = []\n",
        "\n",
        "for features, label in data:\n",
        "  X.append(features)\n",
        "  y.append(label)\n",
        "X = np.array(X).reshape(-1, IMG_SIZE, IMG_SIZE,1)\n",
        "\n",
        "n_total = len(data)\n",
        "n_75 = round(int(n_total*0.75))\n",
        "n_25 = round(int(n_total-n_75))\n",
        "\n",
        "# X = np.array(X)\n",
        "y = np.array(y)\n",
        "\n",
        "x_train = X[:n_75]\n",
        "x_test = X[n_75:n_total]\n",
        "\n",
        "y_train = y[:n_75]\n",
        "y_test = y[n_75:n_total]\n",
        "\n",
        "\n",
        "\n",
        "x_train = x_train.reshape(n_75,64,64,1)\n",
        "x_test = x_test.reshape(n_25,64,64,1)\n",
        "\n",
        "\n",
        "#Se codifican las etiquetas con one-hot\n",
        "\n",
        "#y_train = to_categorical(y_train)\n",
        "#y_test = to_categorical(y_test)\n",
        "\n",
        "#Se comprueba que el formato es el adecuado:\n",
        "\n",
        "print(\"Shape of the train data: {}\".format(x_train.shape))\n",
        "print(\"Shape of the test data: {}\".format(x_test.shape))\n"
      ],
      "metadata": {
        "colab": {
          "base_uri": "https://localhost:8080/"
        },
        "id": "szMPOGV64u5U",
        "outputId": "de1a13f9-2d18-407f-ea00-5388c6ca6f57"
      },
      "execution_count": null,
      "outputs": [
        {
          "output_type": "stream",
          "name": "stdout",
          "text": [
            "1094\n",
            "1096\n",
            "366\n",
            "364\n",
            "Shape of the train data: (2190, 64, 64, 1)\n",
            "Shape of the test data: (730, 64, 64, 1)\n"
          ]
        }
      ]
    },
    {
      "cell_type": "code",
      "source": [
        "\n"
      ],
      "metadata": {
        "colab": {
          "base_uri": "https://localhost:8080/"
        },
        "id": "dJRRcH_LIemY",
        "outputId": "19d256a5-0890-4682-c2b5-a4233dc11580"
      },
      "execution_count": null,
      "outputs": [
        {
          "output_type": "execute_result",
          "data": {
            "text/plain": [
              "2169"
            ]
          },
          "metadata": {},
          "execution_count": 74
        }
      ]
    },
    {
      "cell_type": "code",
      "source": [
        "##VALIDATION SET\n",
        "\n",
        "dataset = 'PREDICTIONS'\n",
        "DATADIR = \"/content/drive/MyDrive/\"+ dataset +\"/\"\n",
        "CATEGORIES = ['wt','mutant']\n",
        "wt_folder = '/content/drive/MyDrive/'+dataset+'/wt/'\n",
        "mutant_folder = '/content/drive/MyDrive/'+dataset+'/mutant/'\n"
      ],
      "metadata": {
        "id": "CuurMUO8NfaU"
      },
      "execution_count": null,
      "outputs": []
    },
    {
      "cell_type": "code",
      "source": [
        "#Se crean los datos que van a ser utilizados y se hace el resize y normalización para cada una de las imágenes\n",
        "\n",
        "data_val = []\n",
        "\n",
        "def create_data_val():\n",
        "  for category in CATEGORIES:\n",
        "    path = os.path.join(DATADIR,category)\n",
        "    class_num = CATEGORIES.index(category)\n",
        "    for img in os.listdir(path):\n",
        "      try:\n",
        "        # img_array = cv2.imread(os.path.join(path,img), cv2.IMREAD_ANYDEPTH)\n",
        "        # img_array = img_array.astype(np.uint8)\n",
        "        img_array = mpimg.imread(os.path.join(path,img))\n",
        "        new_array = cv2.resize(img_array, (IMG_SIZE,IMG_SIZE))\n",
        "\n",
        "        # Normalization\n",
        "        v_min = np.min(new_array)\n",
        "        v_max = np.max(new_array)\n",
        "        # print(\"Min. and max. values before normalization are {} and {}.\".format(v_min, v_max))\n",
        "\n",
        "        new_array_norm = (new_array - v_min) / (v_max - v_min)\n",
        "        # print(\"Min. and max. values after normalization are {} and {}.\".format(np.min(new_array_norm), np.max(new_array_norm)))\n",
        "        data_val.append([(new_array_norm), class_num])\n",
        "\n",
        "      except Exception as e:\n",
        "        pass\n",
        "tqdm(create_data_val())"
      ],
      "metadata": {
        "id": "30R3AKK9PIpy",
        "colab": {
          "base_uri": "https://localhost:8080/"
        },
        "outputId": "780104b3-af2b-4750-f6e3-794d362d1185"
      },
      "execution_count": null,
      "outputs": [
        {
          "output_type": "stream",
          "name": "stderr",
          "text": [
            "\n",
            "0it [00:00, ?it/s]\u001b[A"
          ]
        },
        {
          "output_type": "execute_result",
          "data": {
            "text/plain": [
              "<tqdm.std.tqdm at 0x7888e7842a10>"
            ]
          },
          "metadata": {},
          "execution_count": 14
        }
      ]
    },
    {
      "cell_type": "code",
      "source": [],
      "metadata": {
        "id": "pN435JPvpIMU"
      },
      "execution_count": null,
      "outputs": []
    },
    {
      "cell_type": "code",
      "execution_count": null,
      "metadata": {
        "id": "-CTzgdtT25sN"
      },
      "outputs": [],
      "source": [
        "#Se mezclan las imagenes de wt y mutantes para posteriormente poder hacer un subset equilibrado para entrenamiento y test\n",
        "\n",
        "import random\n",
        "\n",
        "#random.shuffle(data)\n",
        "random.shuffle(data_val)\n"
      ]
    },
    {
      "cell_type": "code",
      "execution_count": null,
      "metadata": {
        "colab": {
          "base_uri": "https://localhost:8080/"
        },
        "id": "8Q1XkaOKCNi1",
        "outputId": "5a7a79d3-e4ad-4579-9b47-d7f510e4a8d1"
      },
      "outputs": [
        {
          "output_type": "stream",
          "name": "stdout",
          "text": [
            "0\n"
          ]
        }
      ],
      "source": [
        "# Se comprueba el tamaño de los datos\n",
        "#print(len(data))\n",
        "print(len(data_val))"
      ]
    },
    {
      "cell_type": "code",
      "execution_count": null,
      "metadata": {
        "id": "kTazjb-25Lha",
        "colab": {
          "base_uri": "https://localhost:8080/",
          "height": 216
        },
        "outputId": "8b754964-1106-4ffa-d8fa-bc071d3697fa"
      },
      "outputs": [
        {
          "output_type": "error",
          "ename": "NameError",
          "evalue": "name 'data' is not defined",
          "traceback": [
            "\u001b[0;31m---------------------------------------------------------------------------\u001b[0m",
            "\u001b[0;31mNameError\u001b[0m                                 Traceback (most recent call last)",
            "\u001b[0;32m<ipython-input-13-136c5ce9baca>\u001b[0m in \u001b[0;36m<cell line: 2>\u001b[0;34m()\u001b[0m\n\u001b[1;32m      1\u001b[0m \u001b[0;31m#Se comprueba que la proporción en training (0:75) y test(75:100) sea similar.\u001b[0m\u001b[0;34m\u001b[0m\u001b[0;34m\u001b[0m\u001b[0m\n\u001b[0;32m----> 2\u001b[0;31m \u001b[0mn_train\u001b[0m \u001b[0;34m=\u001b[0m \u001b[0mlen\u001b[0m\u001b[0;34m(\u001b[0m\u001b[0mdata\u001b[0m\u001b[0;34m)\u001b[0m\u001b[0;34m\u001b[0m\u001b[0;34m\u001b[0m\u001b[0m\n\u001b[0m\u001b[1;32m      3\u001b[0m \u001b[0mn_val\u001b[0m \u001b[0;34m=\u001b[0m \u001b[0mlen\u001b[0m\u001b[0;34m(\u001b[0m\u001b[0mdata_val\u001b[0m\u001b[0;34m)\u001b[0m\u001b[0;34m\u001b[0m\u001b[0;34m\u001b[0m\u001b[0m\n\u001b[1;32m      4\u001b[0m \u001b[0mn_75\u001b[0m \u001b[0;34m=\u001b[0m \u001b[0mn_train\u001b[0m\u001b[0;34m\u001b[0m\u001b[0;34m\u001b[0m\u001b[0m\n\u001b[1;32m      5\u001b[0m \u001b[0mn_25\u001b[0m \u001b[0;34m=\u001b[0m \u001b[0mn_val\u001b[0m\u001b[0;34m\u001b[0m\u001b[0;34m\u001b[0m\u001b[0m\n",
            "\u001b[0;31mNameError\u001b[0m: name 'data' is not defined"
          ]
        }
      ],
      "source": [
        "#Se comprueba que la proporción en training (0:75) y test(75:100) sea similar.\n",
        "n_train = len(data)\n",
        "n_val = len(data_val)\n",
        "n_75 = n_train\n",
        "n_25 = n_val\n",
        "\n",
        "mut = 0\n",
        "wt = 0\n",
        "\n",
        "for sample in data:\n",
        "  if (sample[1] == 1):\n",
        "    mut +=1\n",
        "  elif (sample[1] == 0):\n",
        "    wt +=1\n",
        "print(mut)\n",
        "print(wt)\n",
        "\n",
        "mut = 0\n",
        "wt = 0\n",
        "\n",
        "for sample in data_val:\n",
        "  if (sample[1] == 1):\n",
        "    mut +=1\n",
        "  elif (sample[1] == 0):\n",
        "    wt +=1\n",
        "print(mut)\n",
        "print(wt)"
      ]
    },
    {
      "cell_type": "code",
      "execution_count": null,
      "metadata": {
        "id": "KUni6LQM3bqJ"
      },
      "outputs": [],
      "source": [
        "X = []\n",
        "y = []\n",
        "\n",
        "X_val = []\n",
        "y_val = []"
      ]
    },
    {
      "cell_type": "code",
      "execution_count": null,
      "metadata": {
        "id": "xSsY_4qy5q5H"
      },
      "outputs": [],
      "source": [
        "for features, label in data:\n",
        "  X.append(features)\n",
        "  y.append(label)\n",
        "X = np.array(X).reshape(-1, IMG_SIZE, IMG_SIZE,1)\n"
      ]
    },
    {
      "cell_type": "code",
      "source": [
        "\n",
        "for features, label in data_val:\n",
        "  X_val.append(features)\n",
        "  y_val.append(label)\n",
        "X_val = np.array(X_val).reshape(-1, IMG_SIZE, IMG_SIZE,1)"
      ],
      "metadata": {
        "id": "hmYUrnxLIUuI"
      },
      "execution_count": null,
      "outputs": []
    },
    {
      "cell_type": "code",
      "source": [
        "### NUEVO CODIGO, VALIDATION\n",
        "#Los datos ya están equilibrados tras haber realizado la mezcla en los bloques de código anteriores\n",
        "\n",
        "X = np.array(X)\n",
        "y = np.array(y)\n",
        "X_val = np.array(X_val)\n",
        "\n",
        "x_train = X\n",
        "x_val = X_val\n",
        "y_train = y\n",
        "y_val = np.array(y_val)\n",
        "y_test = y_val\n",
        "x_test = x_val\n",
        "\n",
        "#x_train = x_train.reshape(n_75,64,64,1)\n",
        "#x_val = x_val.reshape(n_25,64,64,1)\n",
        "\n",
        "\n",
        "#Se codifican las etiquetas con one-hot\n",
        "\n",
        "#y_train = to_categorical(y_train)\n",
        "#y_test = to_categorical(y_test)\n",
        "\n",
        "#Se comprueba que el formato es el adecuado:\n",
        "\n",
        "print(\"Shape of the train data: {}\".format(x_train.shape))\n",
        "print(\"Shape of the val data: {}\".format(x_val.shape))\n"
      ],
      "metadata": {
        "colab": {
          "base_uri": "https://localhost:8080/"
        },
        "id": "hB2QcHq2UTl2",
        "outputId": "dd830e7c-c0c5-4e38-f24d-c9ef61538c08"
      },
      "execution_count": null,
      "outputs": [
        {
          "output_type": "stream",
          "name": "stdout",
          "text": [
            "Shape of the train data: (2762, 64, 64, 1)\n",
            "Shape of the val data: (0,)\n"
          ]
        }
      ]
    },
    {
      "cell_type": "code",
      "source": [
        "y"
      ],
      "metadata": {
        "colab": {
          "base_uri": "https://localhost:8080/"
        },
        "id": "xR3j33dRa7P0",
        "outputId": "4f384b48-8346-4c39-9834-f75653eb9b7c"
      },
      "execution_count": null,
      "outputs": [
        {
          "output_type": "execute_result",
          "data": {
            "text/plain": [
              "array([0, 0, 0, ..., 1, 1, 0])"
            ]
          },
          "metadata": {},
          "execution_count": 50
        }
      ]
    },
    {
      "cell_type": "markdown",
      "metadata": {
        "id": "SqYI94fg_YH8"
      },
      "source": [
        "5. Dividir el conjunto de datos en 75% train y 25% de test. Tratar de equilibrar las dos clases.\n",
        "\n",
        "\n",
        "\n"
      ]
    },
    {
      "cell_type": "code",
      "execution_count": null,
      "metadata": {
        "id": "h316OSCojSFe",
        "colab": {
          "base_uri": "https://localhost:8080/"
        },
        "outputId": "9d8c5af8-e81e-489c-a337-2b92fd95956b"
      },
      "outputs": [
        {
          "output_type": "execute_result",
          "data": {
            "text/plain": [
              "((2794, 64, 64, 3), (932, 64, 64, 3))"
            ]
          },
          "metadata": {},
          "execution_count": 13
        }
      ],
      "source": [
        "##procesamiento para VGG16\n",
        "\n",
        "x_train3=np.dstack([x_train]*3)\n",
        "x_test3 =np.dstack([x_test ]*3)\n",
        "x_train3 = x_train3.reshape(-1, 64,64,3)\n",
        "x_test3= x_test3.reshape (-1,64,64,3)\n",
        "\n",
        "x_train3.shape, x_test3.shape"
      ]
    },
    {
      "cell_type": "markdown",
      "metadata": {
        "id": "Vn4aYiVS_zu0"
      },
      "source": [
        "6. Prueba de distintos modelos de CNN. Modelo preentrenado VGG16 y 4 modelos con distintas estructuras."
      ]
    },
    {
      "cell_type": "markdown",
      "metadata": {
        "id": "X7Bmt_lghMLo"
      },
      "source": [
        "[link text](https:// [link text](https://))Modelo preentrenado VGG16:"
      ]
    },
    {
      "cell_type": "code",
      "execution_count": null,
      "metadata": {
        "id": "bN2kEiHo0D7q"
      },
      "outputs": [],
      "source": [
        "from keras.applications.vgg16 import VGG16"
      ]
    },
    {
      "cell_type": "code",
      "execution_count": null,
      "metadata": {
        "id": "QLS7by1Ml3QB"
      },
      "outputs": [],
      "source": [
        "base_model = VGG16(weights=\"imagenet\", include_top=False, input_shape=x_train3[0].shape)\n",
        "base_model.trainable = False ## Not trainable weights"
      ]
    },
    {
      "cell_type": "code",
      "execution_count": null,
      "metadata": {
        "id": "f9hzUdqQmCGL"
      },
      "outputs": [],
      "source": [
        "base_model.summary()"
      ]
    },
    {
      "cell_type": "code",
      "execution_count": null,
      "metadata": {
        "id": "-yUUILEi0FMw"
      },
      "outputs": [],
      "source": [
        "def build_VGG16():\n",
        "  num_classes = 1\n",
        "\n",
        "  model = Sequential()\n",
        "  model.add(layers.RandomFlip(mode=\"horizontal_and_vertical\"))\n",
        "  model.add(base_model)\n",
        "  #model.add(Dropout(0.25))\n",
        "  model.add(Flatten())\n",
        "\n",
        "  #La capa de salida tiene activación sigmoide:\n",
        "  model.add(Dense(64, activation=\"relu\"))\n",
        "  #model.add(Dropout(0.5))\n",
        "  model.add(Dense(num_classes, activation=\"sigmoid\"))\n",
        "  return model\n",
        "\n",
        "\n",
        "keras_model_VGG16 = build_VGG16()\n",
        "keras_model_VGG16.compile(optimizer='adam', loss='binary_crossentropy', metrics=['accuracy'])\n"
      ]
    },
    {
      "cell_type": "code",
      "execution_count": null,
      "metadata": {
        "id": "OIwWkk3c1p2S",
        "colab": {
          "base_uri": "https://localhost:8080/",
          "height": 382
        },
        "outputId": "56a7b6ec-935b-464c-d0f2-6b0a0bddc701"
      },
      "outputs": [
        {
          "output_type": "stream",
          "name": "stdout",
          "text": [
            "Epoch 1/100\n",
            "35/44 [======================>.......] - ETA: 0s - loss: 0.6828 - accuracy: 0.5804"
          ]
        },
        {
          "output_type": "error",
          "ename": "KeyboardInterrupt",
          "evalue": "ignored",
          "traceback": [
            "\u001b[0;31m---------------------------------------------------------------------------\u001b[0m",
            "\u001b[0;31mKeyboardInterrupt\u001b[0m                         Traceback (most recent call last)",
            "\u001b[0;32m<ipython-input-40-b4a4448f9eec>\u001b[0m in \u001b[0;36m<cell line: 2>\u001b[0;34m()\u001b[0m\n\u001b[1;32m      1\u001b[0m \u001b[0mn_epochs\u001b[0m \u001b[0;34m=\u001b[0m \u001b[0;36m100\u001b[0m\u001b[0;34m\u001b[0m\u001b[0;34m\u001b[0m\u001b[0m\n\u001b[0;32m----> 2\u001b[0;31m \u001b[0mmfit\u001b[0m \u001b[0;34m=\u001b[0m \u001b[0mkeras_model_VGG16\u001b[0m\u001b[0;34m.\u001b[0m\u001b[0mfit\u001b[0m\u001b[0;34m(\u001b[0m\u001b[0mx_train3\u001b[0m\u001b[0;34m,\u001b[0m \u001b[0my_train\u001b[0m\u001b[0;34m,\u001b[0m \u001b[0mvalidation_data\u001b[0m\u001b[0;34m=\u001b[0m\u001b[0;34m(\u001b[0m\u001b[0mx_test3\u001b[0m\u001b[0;34m,\u001b[0m\u001b[0my_test\u001b[0m\u001b[0;34m)\u001b[0m\u001b[0;34m,\u001b[0m \u001b[0mbatch_size\u001b[0m\u001b[0;34m=\u001b[0m\u001b[0;36m64\u001b[0m\u001b[0;34m,\u001b[0m \u001b[0mepochs\u001b[0m\u001b[0;34m=\u001b[0m\u001b[0mn_epochs\u001b[0m\u001b[0;34m)\u001b[0m\u001b[0;34m\u001b[0m\u001b[0;34m\u001b[0m\u001b[0m\n\u001b[0m",
            "\u001b[0;32m/usr/local/lib/python3.10/dist-packages/keras/src/utils/traceback_utils.py\u001b[0m in \u001b[0;36merror_handler\u001b[0;34m(*args, **kwargs)\u001b[0m\n\u001b[1;32m     63\u001b[0m         \u001b[0mfiltered_tb\u001b[0m \u001b[0;34m=\u001b[0m \u001b[0;32mNone\u001b[0m\u001b[0;34m\u001b[0m\u001b[0;34m\u001b[0m\u001b[0m\n\u001b[1;32m     64\u001b[0m         \u001b[0;32mtry\u001b[0m\u001b[0;34m:\u001b[0m\u001b[0;34m\u001b[0m\u001b[0;34m\u001b[0m\u001b[0m\n\u001b[0;32m---> 65\u001b[0;31m             \u001b[0;32mreturn\u001b[0m \u001b[0mfn\u001b[0m\u001b[0;34m(\u001b[0m\u001b[0;34m*\u001b[0m\u001b[0margs\u001b[0m\u001b[0;34m,\u001b[0m \u001b[0;34m**\u001b[0m\u001b[0mkwargs\u001b[0m\u001b[0;34m)\u001b[0m\u001b[0;34m\u001b[0m\u001b[0;34m\u001b[0m\u001b[0m\n\u001b[0m\u001b[1;32m     66\u001b[0m         \u001b[0;32mexcept\u001b[0m \u001b[0mException\u001b[0m \u001b[0;32mas\u001b[0m \u001b[0me\u001b[0m\u001b[0;34m:\u001b[0m\u001b[0;34m\u001b[0m\u001b[0;34m\u001b[0m\u001b[0m\n\u001b[1;32m     67\u001b[0m             \u001b[0mfiltered_tb\u001b[0m \u001b[0;34m=\u001b[0m \u001b[0m_process_traceback_frames\u001b[0m\u001b[0;34m(\u001b[0m\u001b[0me\u001b[0m\u001b[0;34m.\u001b[0m\u001b[0m__traceback__\u001b[0m\u001b[0;34m)\u001b[0m\u001b[0;34m\u001b[0m\u001b[0;34m\u001b[0m\u001b[0m\n",
            "\u001b[0;32m/usr/local/lib/python3.10/dist-packages/keras/src/engine/training.py\u001b[0m in \u001b[0;36mfit\u001b[0;34m(self, x, y, batch_size, epochs, verbose, callbacks, validation_split, validation_data, shuffle, class_weight, sample_weight, initial_epoch, steps_per_epoch, validation_steps, validation_batch_size, validation_freq, max_queue_size, workers, use_multiprocessing)\u001b[0m\n\u001b[1;32m   1781\u001b[0m                         ):\n\u001b[1;32m   1782\u001b[0m                             \u001b[0mcallbacks\u001b[0m\u001b[0;34m.\u001b[0m\u001b[0mon_train_batch_begin\u001b[0m\u001b[0;34m(\u001b[0m\u001b[0mstep\u001b[0m\u001b[0;34m)\u001b[0m\u001b[0;34m\u001b[0m\u001b[0;34m\u001b[0m\u001b[0m\n\u001b[0;32m-> 1783\u001b[0;31m                             \u001b[0mtmp_logs\u001b[0m \u001b[0;34m=\u001b[0m \u001b[0mself\u001b[0m\u001b[0;34m.\u001b[0m\u001b[0mtrain_function\u001b[0m\u001b[0;34m(\u001b[0m\u001b[0miterator\u001b[0m\u001b[0;34m)\u001b[0m\u001b[0;34m\u001b[0m\u001b[0;34m\u001b[0m\u001b[0m\n\u001b[0m\u001b[1;32m   1784\u001b[0m                             \u001b[0;32mif\u001b[0m \u001b[0mdata_handler\u001b[0m\u001b[0;34m.\u001b[0m\u001b[0mshould_sync\u001b[0m\u001b[0;34m:\u001b[0m\u001b[0;34m\u001b[0m\u001b[0;34m\u001b[0m\u001b[0m\n\u001b[1;32m   1785\u001b[0m                                 \u001b[0mcontext\u001b[0m\u001b[0;34m.\u001b[0m\u001b[0masync_wait\u001b[0m\u001b[0;34m(\u001b[0m\u001b[0;34m)\u001b[0m\u001b[0;34m\u001b[0m\u001b[0;34m\u001b[0m\u001b[0m\n",
            "\u001b[0;32m/usr/local/lib/python3.10/dist-packages/tensorflow/python/util/traceback_utils.py\u001b[0m in \u001b[0;36merror_handler\u001b[0;34m(*args, **kwargs)\u001b[0m\n\u001b[1;32m    148\u001b[0m     \u001b[0mfiltered_tb\u001b[0m \u001b[0;34m=\u001b[0m \u001b[0;32mNone\u001b[0m\u001b[0;34m\u001b[0m\u001b[0;34m\u001b[0m\u001b[0m\n\u001b[1;32m    149\u001b[0m     \u001b[0;32mtry\u001b[0m\u001b[0;34m:\u001b[0m\u001b[0;34m\u001b[0m\u001b[0;34m\u001b[0m\u001b[0m\n\u001b[0;32m--> 150\u001b[0;31m       \u001b[0;32mreturn\u001b[0m \u001b[0mfn\u001b[0m\u001b[0;34m(\u001b[0m\u001b[0;34m*\u001b[0m\u001b[0margs\u001b[0m\u001b[0;34m,\u001b[0m \u001b[0;34m**\u001b[0m\u001b[0mkwargs\u001b[0m\u001b[0;34m)\u001b[0m\u001b[0;34m\u001b[0m\u001b[0;34m\u001b[0m\u001b[0m\n\u001b[0m\u001b[1;32m    151\u001b[0m     \u001b[0;32mexcept\u001b[0m \u001b[0mException\u001b[0m \u001b[0;32mas\u001b[0m \u001b[0me\u001b[0m\u001b[0;34m:\u001b[0m\u001b[0;34m\u001b[0m\u001b[0;34m\u001b[0m\u001b[0m\n\u001b[1;32m    152\u001b[0m       \u001b[0mfiltered_tb\u001b[0m \u001b[0;34m=\u001b[0m \u001b[0m_process_traceback_frames\u001b[0m\u001b[0;34m(\u001b[0m\u001b[0me\u001b[0m\u001b[0;34m.\u001b[0m\u001b[0m__traceback__\u001b[0m\u001b[0;34m)\u001b[0m\u001b[0;34m\u001b[0m\u001b[0;34m\u001b[0m\u001b[0m\n",
            "\u001b[0;32m/usr/local/lib/python3.10/dist-packages/tensorflow/python/eager/polymorphic_function/polymorphic_function.py\u001b[0m in \u001b[0;36m__call__\u001b[0;34m(self, *args, **kwds)\u001b[0m\n\u001b[1;32m    829\u001b[0m \u001b[0;34m\u001b[0m\u001b[0m\n\u001b[1;32m    830\u001b[0m       \u001b[0;32mwith\u001b[0m \u001b[0mOptionalXlaContext\u001b[0m\u001b[0;34m(\u001b[0m\u001b[0mself\u001b[0m\u001b[0;34m.\u001b[0m\u001b[0m_jit_compile\u001b[0m\u001b[0;34m)\u001b[0m\u001b[0;34m:\u001b[0m\u001b[0;34m\u001b[0m\u001b[0;34m\u001b[0m\u001b[0m\n\u001b[0;32m--> 831\u001b[0;31m         \u001b[0mresult\u001b[0m \u001b[0;34m=\u001b[0m \u001b[0mself\u001b[0m\u001b[0;34m.\u001b[0m\u001b[0m_call\u001b[0m\u001b[0;34m(\u001b[0m\u001b[0;34m*\u001b[0m\u001b[0margs\u001b[0m\u001b[0;34m,\u001b[0m \u001b[0;34m**\u001b[0m\u001b[0mkwds\u001b[0m\u001b[0;34m)\u001b[0m\u001b[0;34m\u001b[0m\u001b[0;34m\u001b[0m\u001b[0m\n\u001b[0m\u001b[1;32m    832\u001b[0m \u001b[0;34m\u001b[0m\u001b[0m\n\u001b[1;32m    833\u001b[0m       \u001b[0mnew_tracing_count\u001b[0m \u001b[0;34m=\u001b[0m \u001b[0mself\u001b[0m\u001b[0;34m.\u001b[0m\u001b[0mexperimental_get_tracing_count\u001b[0m\u001b[0;34m(\u001b[0m\u001b[0;34m)\u001b[0m\u001b[0;34m\u001b[0m\u001b[0;34m\u001b[0m\u001b[0m\n",
            "\u001b[0;32m/usr/local/lib/python3.10/dist-packages/tensorflow/python/eager/polymorphic_function/polymorphic_function.py\u001b[0m in \u001b[0;36m_call\u001b[0;34m(self, *args, **kwds)\u001b[0m\n\u001b[1;32m    865\u001b[0m       \u001b[0;31m# In this case we have created variables on the first call, so we run the\u001b[0m\u001b[0;34m\u001b[0m\u001b[0;34m\u001b[0m\u001b[0m\n\u001b[1;32m    866\u001b[0m       \u001b[0;31m# defunned version which is guaranteed to never create variables.\u001b[0m\u001b[0;34m\u001b[0m\u001b[0;34m\u001b[0m\u001b[0m\n\u001b[0;32m--> 867\u001b[0;31m       return tracing_compilation.call_function(\n\u001b[0m\u001b[1;32m    868\u001b[0m           \u001b[0margs\u001b[0m\u001b[0;34m,\u001b[0m \u001b[0mkwds\u001b[0m\u001b[0;34m,\u001b[0m \u001b[0mself\u001b[0m\u001b[0;34m.\u001b[0m\u001b[0m_no_variable_creation_config\u001b[0m\u001b[0;34m\u001b[0m\u001b[0;34m\u001b[0m\u001b[0m\n\u001b[1;32m    869\u001b[0m       )\n",
            "\u001b[0;32m/usr/local/lib/python3.10/dist-packages/tensorflow/python/eager/polymorphic_function/tracing_compilation.py\u001b[0m in \u001b[0;36mcall_function\u001b[0;34m(args, kwargs, tracing_options)\u001b[0m\n\u001b[1;32m    137\u001b[0m   \u001b[0mbound_args\u001b[0m \u001b[0;34m=\u001b[0m \u001b[0mfunction\u001b[0m\u001b[0;34m.\u001b[0m\u001b[0mfunction_type\u001b[0m\u001b[0;34m.\u001b[0m\u001b[0mbind\u001b[0m\u001b[0;34m(\u001b[0m\u001b[0;34m*\u001b[0m\u001b[0margs\u001b[0m\u001b[0;34m,\u001b[0m \u001b[0;34m**\u001b[0m\u001b[0mkwargs\u001b[0m\u001b[0;34m)\u001b[0m\u001b[0;34m\u001b[0m\u001b[0;34m\u001b[0m\u001b[0m\n\u001b[1;32m    138\u001b[0m   \u001b[0mflat_inputs\u001b[0m \u001b[0;34m=\u001b[0m \u001b[0mfunction\u001b[0m\u001b[0;34m.\u001b[0m\u001b[0mfunction_type\u001b[0m\u001b[0;34m.\u001b[0m\u001b[0munpack_inputs\u001b[0m\u001b[0;34m(\u001b[0m\u001b[0mbound_args\u001b[0m\u001b[0;34m)\u001b[0m\u001b[0;34m\u001b[0m\u001b[0;34m\u001b[0m\u001b[0m\n\u001b[0;32m--> 139\u001b[0;31m   return function._call_flat(  # pylint: disable=protected-access\n\u001b[0m\u001b[1;32m    140\u001b[0m       \u001b[0mflat_inputs\u001b[0m\u001b[0;34m,\u001b[0m \u001b[0mcaptured_inputs\u001b[0m\u001b[0;34m=\u001b[0m\u001b[0mfunction\u001b[0m\u001b[0;34m.\u001b[0m\u001b[0mcaptured_inputs\u001b[0m\u001b[0;34m\u001b[0m\u001b[0;34m\u001b[0m\u001b[0m\n\u001b[1;32m    141\u001b[0m   )\n",
            "\u001b[0;32m/usr/local/lib/python3.10/dist-packages/tensorflow/python/eager/polymorphic_function/concrete_function.py\u001b[0m in \u001b[0;36m_call_flat\u001b[0;34m(self, tensor_inputs, captured_inputs)\u001b[0m\n\u001b[1;32m   1262\u001b[0m         and executing_eagerly):\n\u001b[1;32m   1263\u001b[0m       \u001b[0;31m# No tape is watching; skip to running the function.\u001b[0m\u001b[0;34m\u001b[0m\u001b[0;34m\u001b[0m\u001b[0m\n\u001b[0;32m-> 1264\u001b[0;31m       \u001b[0;32mreturn\u001b[0m \u001b[0mself\u001b[0m\u001b[0;34m.\u001b[0m\u001b[0m_inference_function\u001b[0m\u001b[0;34m.\u001b[0m\u001b[0mflat_call\u001b[0m\u001b[0;34m(\u001b[0m\u001b[0margs\u001b[0m\u001b[0;34m)\u001b[0m\u001b[0;34m\u001b[0m\u001b[0;34m\u001b[0m\u001b[0m\n\u001b[0m\u001b[1;32m   1265\u001b[0m     forward_backward = self._select_forward_and_backward_functions(\n\u001b[1;32m   1266\u001b[0m         \u001b[0margs\u001b[0m\u001b[0;34m,\u001b[0m\u001b[0;34m\u001b[0m\u001b[0;34m\u001b[0m\u001b[0m\n",
            "\u001b[0;32m/usr/local/lib/python3.10/dist-packages/tensorflow/python/eager/polymorphic_function/atomic_function.py\u001b[0m in \u001b[0;36mflat_call\u001b[0;34m(self, args)\u001b[0m\n\u001b[1;32m    215\u001b[0m   \u001b[0;32mdef\u001b[0m \u001b[0mflat_call\u001b[0m\u001b[0;34m(\u001b[0m\u001b[0mself\u001b[0m\u001b[0;34m,\u001b[0m \u001b[0margs\u001b[0m\u001b[0;34m:\u001b[0m \u001b[0mSequence\u001b[0m\u001b[0;34m[\u001b[0m\u001b[0mcore\u001b[0m\u001b[0;34m.\u001b[0m\u001b[0mTensor\u001b[0m\u001b[0;34m]\u001b[0m\u001b[0;34m)\u001b[0m \u001b[0;34m->\u001b[0m \u001b[0mAny\u001b[0m\u001b[0;34m:\u001b[0m\u001b[0;34m\u001b[0m\u001b[0;34m\u001b[0m\u001b[0m\n\u001b[1;32m    216\u001b[0m     \u001b[0;34m\"\"\"Calls with tensor inputs and returns the structured output.\"\"\"\u001b[0m\u001b[0;34m\u001b[0m\u001b[0;34m\u001b[0m\u001b[0m\n\u001b[0;32m--> 217\u001b[0;31m     \u001b[0mflat_outputs\u001b[0m \u001b[0;34m=\u001b[0m \u001b[0mself\u001b[0m\u001b[0;34m(\u001b[0m\u001b[0;34m*\u001b[0m\u001b[0margs\u001b[0m\u001b[0;34m)\u001b[0m\u001b[0;34m\u001b[0m\u001b[0;34m\u001b[0m\u001b[0m\n\u001b[0m\u001b[1;32m    218\u001b[0m     \u001b[0;32mreturn\u001b[0m \u001b[0mself\u001b[0m\u001b[0;34m.\u001b[0m\u001b[0mfunction_type\u001b[0m\u001b[0;34m.\u001b[0m\u001b[0mpack_output\u001b[0m\u001b[0;34m(\u001b[0m\u001b[0mflat_outputs\u001b[0m\u001b[0;34m)\u001b[0m\u001b[0;34m\u001b[0m\u001b[0;34m\u001b[0m\u001b[0m\n\u001b[1;32m    219\u001b[0m \u001b[0;34m\u001b[0m\u001b[0m\n",
            "\u001b[0;32m/usr/local/lib/python3.10/dist-packages/tensorflow/python/eager/polymorphic_function/atomic_function.py\u001b[0m in \u001b[0;36m__call__\u001b[0;34m(self, *args)\u001b[0m\n\u001b[1;32m    250\u001b[0m         \u001b[0;32mwith\u001b[0m \u001b[0mrecord\u001b[0m\u001b[0;34m.\u001b[0m\u001b[0mstop_recording\u001b[0m\u001b[0;34m(\u001b[0m\u001b[0;34m)\u001b[0m\u001b[0;34m:\u001b[0m\u001b[0;34m\u001b[0m\u001b[0;34m\u001b[0m\u001b[0m\n\u001b[1;32m    251\u001b[0m           \u001b[0;32mif\u001b[0m \u001b[0mself\u001b[0m\u001b[0;34m.\u001b[0m\u001b[0m_bound_context\u001b[0m\u001b[0;34m.\u001b[0m\u001b[0mexecuting_eagerly\u001b[0m\u001b[0;34m(\u001b[0m\u001b[0;34m)\u001b[0m\u001b[0;34m:\u001b[0m\u001b[0;34m\u001b[0m\u001b[0;34m\u001b[0m\u001b[0m\n\u001b[0;32m--> 252\u001b[0;31m             outputs = self._bound_context.call_function(\n\u001b[0m\u001b[1;32m    253\u001b[0m                 \u001b[0mself\u001b[0m\u001b[0;34m.\u001b[0m\u001b[0mname\u001b[0m\u001b[0;34m,\u001b[0m\u001b[0;34m\u001b[0m\u001b[0;34m\u001b[0m\u001b[0m\n\u001b[1;32m    254\u001b[0m                 \u001b[0mlist\u001b[0m\u001b[0;34m(\u001b[0m\u001b[0margs\u001b[0m\u001b[0;34m)\u001b[0m\u001b[0;34m,\u001b[0m\u001b[0;34m\u001b[0m\u001b[0;34m\u001b[0m\u001b[0m\n",
            "\u001b[0;32m/usr/local/lib/python3.10/dist-packages/tensorflow/python/eager/context.py\u001b[0m in \u001b[0;36mcall_function\u001b[0;34m(self, name, tensor_inputs, num_outputs)\u001b[0m\n\u001b[1;32m   1477\u001b[0m     \u001b[0mcancellation_context\u001b[0m \u001b[0;34m=\u001b[0m \u001b[0mcancellation\u001b[0m\u001b[0;34m.\u001b[0m\u001b[0mcontext\u001b[0m\u001b[0;34m(\u001b[0m\u001b[0;34m)\u001b[0m\u001b[0;34m\u001b[0m\u001b[0;34m\u001b[0m\u001b[0m\n\u001b[1;32m   1478\u001b[0m     \u001b[0;32mif\u001b[0m \u001b[0mcancellation_context\u001b[0m \u001b[0;32mis\u001b[0m \u001b[0;32mNone\u001b[0m\u001b[0;34m:\u001b[0m\u001b[0;34m\u001b[0m\u001b[0;34m\u001b[0m\u001b[0m\n\u001b[0;32m-> 1479\u001b[0;31m       outputs = execute.execute(\n\u001b[0m\u001b[1;32m   1480\u001b[0m           \u001b[0mname\u001b[0m\u001b[0;34m.\u001b[0m\u001b[0mdecode\u001b[0m\u001b[0;34m(\u001b[0m\u001b[0;34m\"utf-8\"\u001b[0m\u001b[0;34m)\u001b[0m\u001b[0;34m,\u001b[0m\u001b[0;34m\u001b[0m\u001b[0;34m\u001b[0m\u001b[0m\n\u001b[1;32m   1481\u001b[0m           \u001b[0mnum_outputs\u001b[0m\u001b[0;34m=\u001b[0m\u001b[0mnum_outputs\u001b[0m\u001b[0;34m,\u001b[0m\u001b[0;34m\u001b[0m\u001b[0;34m\u001b[0m\u001b[0m\n",
            "\u001b[0;32m/usr/local/lib/python3.10/dist-packages/tensorflow/python/eager/execute.py\u001b[0m in \u001b[0;36mquick_execute\u001b[0;34m(op_name, num_outputs, inputs, attrs, ctx, name)\u001b[0m\n\u001b[1;32m     58\u001b[0m         \u001b[0;32mfor\u001b[0m \u001b[0mt\u001b[0m \u001b[0;32min\u001b[0m \u001b[0minputs\u001b[0m\u001b[0;34m\u001b[0m\u001b[0;34m\u001b[0m\u001b[0m\n\u001b[1;32m     59\u001b[0m     ]\n\u001b[0;32m---> 60\u001b[0;31m     tensors = pywrap_tfe.TFE_Py_Execute(ctx._handle, device_name, op_name,\n\u001b[0m\u001b[1;32m     61\u001b[0m                                         inputs, attrs, num_outputs)\n\u001b[1;32m     62\u001b[0m   \u001b[0;32mexcept\u001b[0m \u001b[0mcore\u001b[0m\u001b[0;34m.\u001b[0m\u001b[0m_NotOkStatusException\u001b[0m \u001b[0;32mas\u001b[0m \u001b[0me\u001b[0m\u001b[0;34m:\u001b[0m\u001b[0;34m\u001b[0m\u001b[0;34m\u001b[0m\u001b[0m\n",
            "\u001b[0;31mKeyboardInterrupt\u001b[0m: "
          ]
        }
      ],
      "source": [
        "n_epochs = 100\n",
        "mfit = keras_model_VGG16.fit(x_train3, y_train, validation_data=(x_test3,y_test), batch_size=64, epochs=n_epochs)"
      ]
    },
    {
      "cell_type": "markdown",
      "metadata": {
        "id": "lcbjOHXlhpRE"
      },
      "source": [
        "Nº de Epocs y batch size:"
      ]
    },
    {
      "cell_type": "code",
      "source": [
        "from keras.models import load_model\n",
        "\n",
        "from keras.callbacks import Callback\n",
        "import os\n",
        "\n",
        "class SaveModelCallback(Callback):\n",
        "    def __init__(self, save_dir):\n",
        "        super(SaveModelCallback, self).__init__()\n",
        "        self.save_dir = save_dir\n",
        "\n",
        "    def on_epoch_end(self, epoch, logs=None):\n",
        "        # Create a directory to save the model for each epoch\n",
        "        epoch_save_dir = os.path.join(self.save_dir, f'epoch_{epoch+1}')\n",
        "        os.makedirs(epoch_save_dir, exist_ok=True)\n",
        "\n",
        "        # Save the entire model (architecture, weights, training config)\n",
        "        model_save_path = os.path.join(epoch_save_dir, 'model.h5')\n",
        "        self.model.save(model_save_path)\n",
        "\n",
        "# Usage:\n",
        "# Initialize the callback with the directory where you want to save the model\n",
        "save_model_callback = SaveModelCallback(save_dir='/content/drive/MyDrive/weights_model/BATCH_DEF_6_VGG16')\n",
        "\n",
        "# Train the model using the callback\n",
        "history = keras_model_VGG16.fit(x_train3, y_train, validation_data=(x_test3,y_test), epochs=50, callbacks=[save_model_callback])\n",
        "\n"
      ],
      "metadata": {
        "colab": {
          "base_uri": "https://localhost:8080/",
          "height": 198
        },
        "id": "zORGgP1RFQag",
        "outputId": "935e9256-b949-4f83-ce64-639216002928"
      },
      "execution_count": null,
      "outputs": [
        {
          "output_type": "error",
          "ename": "NameError",
          "evalue": "name 'keras_model_VGG16' is not defined",
          "traceback": [
            "\u001b[0;31m---------------------------------------------------------------------------\u001b[0m",
            "\u001b[0;31mNameError\u001b[0m                                 Traceback (most recent call last)",
            "\u001b[0;32m<ipython-input-4-c4e916eddb8e>\u001b[0m in \u001b[0;36m<cell line: 0>\u001b[0;34m()\u001b[0m\n\u001b[1;32m     23\u001b[0m \u001b[0;34m\u001b[0m\u001b[0m\n\u001b[1;32m     24\u001b[0m \u001b[0;31m# Train the model using the callback\u001b[0m\u001b[0;34m\u001b[0m\u001b[0;34m\u001b[0m\u001b[0m\n\u001b[0;32m---> 25\u001b[0;31m \u001b[0mhistory\u001b[0m \u001b[0;34m=\u001b[0m \u001b[0mkeras_model_VGG16\u001b[0m\u001b[0;34m.\u001b[0m\u001b[0mfit\u001b[0m\u001b[0;34m(\u001b[0m\u001b[0mx_train3\u001b[0m\u001b[0;34m,\u001b[0m \u001b[0my_train\u001b[0m\u001b[0;34m,\u001b[0m \u001b[0mvalidation_data\u001b[0m\u001b[0;34m=\u001b[0m\u001b[0;34m(\u001b[0m\u001b[0mx_test3\u001b[0m\u001b[0;34m,\u001b[0m\u001b[0my_test\u001b[0m\u001b[0;34m)\u001b[0m\u001b[0;34m,\u001b[0m \u001b[0mepochs\u001b[0m\u001b[0;34m=\u001b[0m\u001b[0;36m50\u001b[0m\u001b[0;34m,\u001b[0m \u001b[0mcallbacks\u001b[0m\u001b[0;34m=\u001b[0m\u001b[0;34m[\u001b[0m\u001b[0msave_model_callback\u001b[0m\u001b[0;34m]\u001b[0m\u001b[0;34m)\u001b[0m\u001b[0;34m\u001b[0m\u001b[0;34m\u001b[0m\u001b[0m\n\u001b[0m\u001b[1;32m     26\u001b[0m \u001b[0;34m\u001b[0m\u001b[0m\n",
            "\u001b[0;31mNameError\u001b[0m: name 'keras_model_VGG16' is not defined"
          ]
        }
      ]
    },
    {
      "cell_type": "code",
      "execution_count": null,
      "metadata": {
        "id": "effvTLLEifif"
      },
      "outputs": [],
      "source": [
        "####EPOCS\n",
        "n_epochs = 150\n",
        "VAR_batch_size=32"
      ]
    },
    {
      "cell_type": "markdown",
      "metadata": {
        "id": "Ui5rSAgXJmnR"
      },
      "source": [
        "Modelo 4"
      ]
    },
    {
      "cell_type": "code",
      "execution_count": null,
      "metadata": {
        "id": "q-dyQLzTvUQ0"
      },
      "outputs": [],
      "source": [
        "def build_model4():\n",
        "  num_classes = 1\n",
        "\n",
        "  model = Sequential()\n",
        "  #model.add(layers.RandomRotation(factor = (0,5), fill_mode = \"nearest\"))\n",
        "  model.add(layers.RandomFlip(mode=\"horizontal_and_vertical\"))\n",
        "  model.add(Conv2D(32, kernel_size=3, activation=\"relu\", input_shape=(64,64,1)))\n",
        "  model.add(Conv2D(64, kernel_size=3, activation=\"relu\"))\n",
        "  model.add(MaxPooling2D(pool_size=(2,2)))\n",
        "  model.add(Dropout(0.25))\n",
        "\n",
        "\n",
        "  model.add(Conv2D(64, kernel_size=3, activation=\"relu\"))\n",
        "  model.add(MaxPooling2D(pool_size=(2,2)))\n",
        "  model.add(Dropout(0.25))\n",
        "\n",
        "  model.add(Conv2D(128, kernel_size=3, activation=\"relu\"))\n",
        "  model.add(MaxPooling2D(pool_size=(2,2)))\n",
        "  model.add(Dropout(0.25))\n",
        "\n",
        "\n",
        "  model.add(Flatten())\n",
        "\n",
        "  model.add(Dense(64, activation=\"relu\"))\n",
        "  model.add(Dropout(0.5))\n",
        "\n",
        "  #La capa de salida tiene activación sigmoide:\n",
        "\n",
        "  model.add(Dense(num_classes, activation=\"sigmoid\"))\n",
        "  return model\n",
        "\n",
        "keras_model4 = build_model4()\n",
        "keras_model4.compile(optimizer='adam', loss='binary_crossentropy', metrics=['accuracy'])"
      ]
    },
    {
      "cell_type": "code",
      "execution_count": null,
      "metadata": {
        "colab": {
          "base_uri": "https://localhost:8080/",
          "height": 269
        },
        "id": "dOMP0H1wEwl5",
        "outputId": "ffdf11df-43ea-4a05-a7f9-c1f7ed6aa05a"
      },
      "outputs": [
        {
          "output_type": "error",
          "ename": "ValueError",
          "evalue": "This model has not yet been built. Build the model first by calling `build()` or by calling the model on a batch of data.",
          "traceback": [
            "\u001b[0;31m---------------------------------------------------------------------------\u001b[0m",
            "\u001b[0;31mValueError\u001b[0m                                Traceback (most recent call last)",
            "\u001b[0;32m<ipython-input-26-4f7176c405b4>\u001b[0m in \u001b[0;36m<cell line: 1>\u001b[0;34m()\u001b[0m\n\u001b[0;32m----> 1\u001b[0;31m \u001b[0mkeras_model4\u001b[0m\u001b[0;34m.\u001b[0m\u001b[0msummary\u001b[0m\u001b[0;34m(\u001b[0m\u001b[0;34m)\u001b[0m\u001b[0;34m\u001b[0m\u001b[0;34m\u001b[0m\u001b[0m\n\u001b[0m",
            "\u001b[0;32m/usr/local/lib/python3.10/dist-packages/keras/src/engine/training.py\u001b[0m in \u001b[0;36msummary\u001b[0;34m(self, line_length, positions, print_fn, expand_nested, show_trainable, layer_range)\u001b[0m\n\u001b[1;32m   3504\u001b[0m         \"\"\"\n\u001b[1;32m   3505\u001b[0m         \u001b[0;32mif\u001b[0m \u001b[0;32mnot\u001b[0m \u001b[0mself\u001b[0m\u001b[0;34m.\u001b[0m\u001b[0mbuilt\u001b[0m\u001b[0;34m:\u001b[0m\u001b[0;34m\u001b[0m\u001b[0;34m\u001b[0m\u001b[0m\n\u001b[0;32m-> 3506\u001b[0;31m             raise ValueError(\n\u001b[0m\u001b[1;32m   3507\u001b[0m                 \u001b[0;34m\"This model has not yet been built. \"\u001b[0m\u001b[0;34m\u001b[0m\u001b[0;34m\u001b[0m\u001b[0m\n\u001b[1;32m   3508\u001b[0m                 \u001b[0;34m\"Build the model first by calling `build()` or by calling \"\u001b[0m\u001b[0;34m\u001b[0m\u001b[0;34m\u001b[0m\u001b[0m\n",
            "\u001b[0;31mValueError\u001b[0m: This model has not yet been built. Build the model first by calling `build()` or by calling the model on a batch of data."
          ]
        }
      ],
      "source": [
        "keras_model4.summary()"
      ]
    },
    {
      "cell_type": "code",
      "execution_count": null,
      "metadata": {
        "id": "mqpgpmEvvb0j",
        "colab": {
          "base_uri": "https://localhost:8080/",
          "height": 1000
        },
        "outputId": "cf7b9981-cef3-4ca5-e10b-e246fc61c7b3"
      },
      "outputs": [
        {
          "output_type": "stream",
          "name": "stdout",
          "text": [
            "Epoch 1/300\n",
            "69/69 [==============================] - 5s 23ms/step - loss: 0.6881 - accuracy: 0.5580 - val_loss: 0.6587 - val_accuracy: 0.6521\n",
            "Epoch 2/300\n",
            "69/69 [==============================] - 1s 17ms/step - loss: 0.6726 - accuracy: 0.5909 - val_loss: 0.6533 - val_accuracy: 0.5712\n",
            "Epoch 3/300\n",
            "69/69 [==============================] - 1s 17ms/step - loss: 0.6628 - accuracy: 0.6014 - val_loss: 0.6334 - val_accuracy: 0.6288\n",
            "Epoch 4/300\n",
            "69/69 [==============================] - 1s 18ms/step - loss: 0.6461 - accuracy: 0.5982 - val_loss: 0.6282 - val_accuracy: 0.6466\n",
            "Epoch 5/300\n",
            "69/69 [==============================] - 1s 16ms/step - loss: 0.6373 - accuracy: 0.6260 - val_loss: 0.6305 - val_accuracy: 0.6589\n",
            "Epoch 6/300\n",
            "69/69 [==============================] - 1s 15ms/step - loss: 0.6291 - accuracy: 0.6402 - val_loss: 0.6184 - val_accuracy: 0.6534\n",
            "Epoch 7/300\n",
            "69/69 [==============================] - 1s 16ms/step - loss: 0.6331 - accuracy: 0.6434 - val_loss: 0.6127 - val_accuracy: 0.6534\n",
            "Epoch 8/300\n",
            "69/69 [==============================] - 1s 15ms/step - loss: 0.6253 - accuracy: 0.6361 - val_loss: 0.6021 - val_accuracy: 0.6562\n",
            "Epoch 9/300\n",
            "69/69 [==============================] - 1s 16ms/step - loss: 0.6300 - accuracy: 0.6438 - val_loss: 0.6044 - val_accuracy: 0.6452\n",
            "Epoch 10/300\n",
            "69/69 [==============================] - 1s 16ms/step - loss: 0.6260 - accuracy: 0.6370 - val_loss: 0.6067 - val_accuracy: 0.6507\n",
            "Epoch 11/300\n",
            "69/69 [==============================] - 1s 15ms/step - loss: 0.6214 - accuracy: 0.6457 - val_loss: 0.6039 - val_accuracy: 0.6466\n",
            "Epoch 12/300\n",
            "69/69 [==============================] - 1s 16ms/step - loss: 0.6189 - accuracy: 0.6507 - val_loss: 0.6008 - val_accuracy: 0.6616\n",
            "Epoch 13/300\n",
            "69/69 [==============================] - 1s 16ms/step - loss: 0.6179 - accuracy: 0.6429 - val_loss: 0.6049 - val_accuracy: 0.6534\n",
            "Epoch 14/300\n",
            "69/69 [==============================] - 1s 18ms/step - loss: 0.6216 - accuracy: 0.6416 - val_loss: 0.6029 - val_accuracy: 0.6438\n",
            "Epoch 15/300\n",
            "69/69 [==============================] - 1s 18ms/step - loss: 0.6225 - accuracy: 0.6452 - val_loss: 0.6136 - val_accuracy: 0.6425\n",
            "Epoch 16/300\n",
            "69/69 [==============================] - 1s 19ms/step - loss: 0.6172 - accuracy: 0.6470 - val_loss: 0.6054 - val_accuracy: 0.6616\n",
            "Epoch 17/300\n",
            "69/69 [==============================] - 1s 17ms/step - loss: 0.6149 - accuracy: 0.6452 - val_loss: 0.5907 - val_accuracy: 0.6712\n",
            "Epoch 18/300\n",
            "69/69 [==============================] - 1s 16ms/step - loss: 0.6176 - accuracy: 0.6502 - val_loss: 0.5983 - val_accuracy: 0.6671\n",
            "Epoch 19/300\n",
            "69/69 [==============================] - 1s 16ms/step - loss: 0.6176 - accuracy: 0.6406 - val_loss: 0.5843 - val_accuracy: 0.6740\n",
            "Epoch 20/300\n",
            "69/69 [==============================] - 1s 16ms/step - loss: 0.6168 - accuracy: 0.6393 - val_loss: 0.6012 - val_accuracy: 0.6521\n",
            "Epoch 21/300\n",
            "69/69 [==============================] - 1s 15ms/step - loss: 0.6115 - accuracy: 0.6566 - val_loss: 0.5949 - val_accuracy: 0.6548\n",
            "Epoch 22/300\n",
            "69/69 [==============================] - 1s 16ms/step - loss: 0.6130 - accuracy: 0.6521 - val_loss: 0.6026 - val_accuracy: 0.6562\n",
            "Epoch 23/300\n",
            "69/69 [==============================] - 1s 16ms/step - loss: 0.6107 - accuracy: 0.6479 - val_loss: 0.5816 - val_accuracy: 0.6712\n",
            "Epoch 24/300\n",
            "69/69 [==============================] - 1s 15ms/step - loss: 0.6060 - accuracy: 0.6484 - val_loss: 0.5882 - val_accuracy: 0.6603\n",
            "Epoch 25/300\n",
            "69/69 [==============================] - 1s 15ms/step - loss: 0.6113 - accuracy: 0.6493 - val_loss: 0.5823 - val_accuracy: 0.6616\n",
            "Epoch 26/300\n",
            "69/69 [==============================] - 1s 17ms/step - loss: 0.6130 - accuracy: 0.6429 - val_loss: 0.5808 - val_accuracy: 0.6562\n",
            "Epoch 27/300\n",
            "69/69 [==============================] - 1s 19ms/step - loss: 0.6063 - accuracy: 0.6502 - val_loss: 0.5819 - val_accuracy: 0.6534\n",
            "Epoch 28/300\n",
            "69/69 [==============================] - 1s 18ms/step - loss: 0.6113 - accuracy: 0.6530 - val_loss: 0.5830 - val_accuracy: 0.6644\n",
            "Epoch 29/300\n",
            "69/69 [==============================] - 1s 16ms/step - loss: 0.6078 - accuracy: 0.6516 - val_loss: 0.5794 - val_accuracy: 0.6616\n",
            "Epoch 30/300\n",
            "69/69 [==============================] - 1s 15ms/step - loss: 0.6020 - accuracy: 0.6498 - val_loss: 0.5933 - val_accuracy: 0.6411\n",
            "Epoch 31/300\n",
            "69/69 [==============================] - 1s 16ms/step - loss: 0.5993 - accuracy: 0.6502 - val_loss: 0.5755 - val_accuracy: 0.6658\n",
            "Epoch 32/300\n",
            "69/69 [==============================] - 1s 16ms/step - loss: 0.6013 - accuracy: 0.6575 - val_loss: 0.5880 - val_accuracy: 0.6699\n",
            "Epoch 33/300\n",
            "69/69 [==============================] - 1s 16ms/step - loss: 0.6024 - accuracy: 0.6580 - val_loss: 0.5729 - val_accuracy: 0.6740\n",
            "Epoch 34/300\n",
            "69/69 [==============================] - 1s 15ms/step - loss: 0.5915 - accuracy: 0.6653 - val_loss: 0.5827 - val_accuracy: 0.6671\n",
            "Epoch 35/300\n",
            "69/69 [==============================] - 1s 16ms/step - loss: 0.5923 - accuracy: 0.6648 - val_loss: 0.5769 - val_accuracy: 0.6644\n",
            "Epoch 36/300\n",
            "69/69 [==============================] - 1s 16ms/step - loss: 0.5934 - accuracy: 0.6521 - val_loss: 0.5752 - val_accuracy: 0.6603\n",
            "Epoch 37/300\n",
            "69/69 [==============================] - 1s 16ms/step - loss: 0.6007 - accuracy: 0.6511 - val_loss: 0.5759 - val_accuracy: 0.6699\n",
            "Epoch 38/300\n",
            "69/69 [==============================] - 1s 18ms/step - loss: 0.5932 - accuracy: 0.6589 - val_loss: 0.5810 - val_accuracy: 0.6685\n",
            "Epoch 39/300\n",
            "69/69 [==============================] - 1s 18ms/step - loss: 0.5995 - accuracy: 0.6589 - val_loss: 0.5616 - val_accuracy: 0.6808\n",
            "Epoch 40/300\n",
            "69/69 [==============================] - 1s 16ms/step - loss: 0.5893 - accuracy: 0.6626 - val_loss: 0.5735 - val_accuracy: 0.6712\n",
            "Epoch 41/300\n",
            "69/69 [==============================] - 1s 16ms/step - loss: 0.5960 - accuracy: 0.6626 - val_loss: 0.5719 - val_accuracy: 0.6671\n",
            "Epoch 42/300\n",
            "69/69 [==============================] - 1s 15ms/step - loss: 0.5884 - accuracy: 0.6607 - val_loss: 0.5705 - val_accuracy: 0.6603\n",
            "Epoch 43/300\n",
            "69/69 [==============================] - 1s 16ms/step - loss: 0.6023 - accuracy: 0.6507 - val_loss: 0.5804 - val_accuracy: 0.6685\n",
            "Epoch 44/300\n",
            "69/69 [==============================] - 1s 16ms/step - loss: 0.5860 - accuracy: 0.6644 - val_loss: 0.5607 - val_accuracy: 0.6849\n",
            "Epoch 45/300\n",
            "69/69 [==============================] - 1s 15ms/step - loss: 0.5950 - accuracy: 0.6584 - val_loss: 0.5631 - val_accuracy: 0.6740\n",
            "Epoch 46/300\n",
            "69/69 [==============================] - 1s 16ms/step - loss: 0.5922 - accuracy: 0.6589 - val_loss: 0.5631 - val_accuracy: 0.6808\n",
            "Epoch 47/300\n",
            "69/69 [==============================] - 1s 16ms/step - loss: 0.5898 - accuracy: 0.6653 - val_loss: 0.5556 - val_accuracy: 0.6795\n",
            "Epoch 48/300\n",
            "69/69 [==============================] - 1s 16ms/step - loss: 0.5805 - accuracy: 0.6680 - val_loss: 0.5781 - val_accuracy: 0.6630\n",
            "Epoch 49/300\n",
            "69/69 [==============================] - 1s 17ms/step - loss: 0.5972 - accuracy: 0.6621 - val_loss: 0.5610 - val_accuracy: 0.6671\n",
            "Epoch 50/300\n",
            "69/69 [==============================] - 1s 18ms/step - loss: 0.5935 - accuracy: 0.6598 - val_loss: 0.5647 - val_accuracy: 0.6740\n",
            "Epoch 51/300\n",
            "69/69 [==============================] - 1s 18ms/step - loss: 0.5925 - accuracy: 0.6557 - val_loss: 0.5713 - val_accuracy: 0.6644\n",
            "Epoch 52/300\n",
            "69/69 [==============================] - 1s 17ms/step - loss: 0.5840 - accuracy: 0.6694 - val_loss: 0.5606 - val_accuracy: 0.6753\n",
            "Epoch 53/300\n",
            "69/69 [==============================] - 1s 16ms/step - loss: 0.5897 - accuracy: 0.6648 - val_loss: 0.5717 - val_accuracy: 0.6712\n",
            "Epoch 54/300\n",
            "69/69 [==============================] - 1s 16ms/step - loss: 0.5929 - accuracy: 0.6521 - val_loss: 0.5661 - val_accuracy: 0.6712\n",
            "Epoch 55/300\n",
            "69/69 [==============================] - 1s 15ms/step - loss: 0.5897 - accuracy: 0.6589 - val_loss: 0.5606 - val_accuracy: 0.6726\n",
            "Epoch 56/300\n",
            "69/69 [==============================] - 1s 15ms/step - loss: 0.5832 - accuracy: 0.6703 - val_loss: 0.5771 - val_accuracy: 0.6712\n",
            "Epoch 57/300\n",
            "69/69 [==============================] - 1s 16ms/step - loss: 0.5846 - accuracy: 0.6630 - val_loss: 0.5593 - val_accuracy: 0.6863\n",
            "Epoch 58/300\n",
            "69/69 [==============================] - 1s 16ms/step - loss: 0.5878 - accuracy: 0.6653 - val_loss: 0.5614 - val_accuracy: 0.6712\n",
            "Epoch 59/300\n",
            "69/69 [==============================] - 1s 16ms/step - loss: 0.5924 - accuracy: 0.6658 - val_loss: 0.5707 - val_accuracy: 0.6658\n",
            "Epoch 60/300\n",
            "69/69 [==============================] - 1s 15ms/step - loss: 0.5756 - accuracy: 0.6708 - val_loss: 0.5607 - val_accuracy: 0.6781\n",
            "Epoch 61/300\n",
            "69/69 [==============================] - 1s 17ms/step - loss: 0.5802 - accuracy: 0.6662 - val_loss: 0.5551 - val_accuracy: 0.6685\n",
            "Epoch 62/300\n",
            "69/69 [==============================] - 1s 19ms/step - loss: 0.5852 - accuracy: 0.6680 - val_loss: 0.5588 - val_accuracy: 0.6781\n",
            "Epoch 63/300\n",
            "69/69 [==============================] - 1s 18ms/step - loss: 0.5920 - accuracy: 0.6575 - val_loss: 0.5677 - val_accuracy: 0.6808\n",
            "Epoch 64/300\n",
            "69/69 [==============================] - 1s 15ms/step - loss: 0.5796 - accuracy: 0.6621 - val_loss: 0.5586 - val_accuracy: 0.6767\n",
            "Epoch 65/300\n",
            "69/69 [==============================] - 1s 15ms/step - loss: 0.5842 - accuracy: 0.6521 - val_loss: 0.5581 - val_accuracy: 0.6795\n",
            "Epoch 66/300\n",
            "69/69 [==============================] - 1s 15ms/step - loss: 0.5841 - accuracy: 0.6630 - val_loss: 0.5549 - val_accuracy: 0.6740\n",
            "Epoch 67/300\n",
            "69/69 [==============================] - 1s 15ms/step - loss: 0.5789 - accuracy: 0.6644 - val_loss: 0.5638 - val_accuracy: 0.6795\n",
            "Epoch 68/300\n",
            "69/69 [==============================] - 1s 15ms/step - loss: 0.5797 - accuracy: 0.6731 - val_loss: 0.5595 - val_accuracy: 0.6575\n",
            "Epoch 69/300\n",
            "69/69 [==============================] - 1s 16ms/step - loss: 0.5778 - accuracy: 0.6795 - val_loss: 0.5586 - val_accuracy: 0.6767\n",
            "Epoch 70/300\n",
            "69/69 [==============================] - 1s 15ms/step - loss: 0.5855 - accuracy: 0.6630 - val_loss: 0.5567 - val_accuracy: 0.6863\n",
            "Epoch 71/300\n",
            "69/69 [==============================] - 1s 15ms/step - loss: 0.5836 - accuracy: 0.6607 - val_loss: 0.5542 - val_accuracy: 0.6740\n",
            "Epoch 72/300\n",
            "69/69 [==============================] - 1s 15ms/step - loss: 0.5748 - accuracy: 0.6749 - val_loss: 0.5569 - val_accuracy: 0.6890\n",
            "Epoch 73/300\n",
            "69/69 [==============================] - 1s 17ms/step - loss: 0.5826 - accuracy: 0.6648 - val_loss: 0.5553 - val_accuracy: 0.6836\n",
            "Epoch 74/300\n",
            "69/69 [==============================] - 1s 18ms/step - loss: 0.5778 - accuracy: 0.6658 - val_loss: 0.5625 - val_accuracy: 0.6712\n",
            "Epoch 75/300\n",
            "69/69 [==============================] - 1s 18ms/step - loss: 0.5746 - accuracy: 0.6676 - val_loss: 0.5559 - val_accuracy: 0.6781\n",
            "Epoch 76/300\n",
            "69/69 [==============================] - 1s 16ms/step - loss: 0.5741 - accuracy: 0.6731 - val_loss: 0.5583 - val_accuracy: 0.6836\n",
            "Epoch 77/300\n",
            "69/69 [==============================] - 1s 15ms/step - loss: 0.5824 - accuracy: 0.6744 - val_loss: 0.5603 - val_accuracy: 0.6808\n",
            "Epoch 78/300\n",
            "69/69 [==============================] - 1s 16ms/step - loss: 0.5789 - accuracy: 0.6703 - val_loss: 0.5670 - val_accuracy: 0.6699\n",
            "Epoch 79/300\n",
            "69/69 [==============================] - 1s 16ms/step - loss: 0.5741 - accuracy: 0.6712 - val_loss: 0.5649 - val_accuracy: 0.6753\n",
            "Epoch 80/300\n",
            "69/69 [==============================] - 1s 16ms/step - loss: 0.5830 - accuracy: 0.6612 - val_loss: 0.5596 - val_accuracy: 0.6781\n",
            "Epoch 81/300\n",
            "69/69 [==============================] - 1s 16ms/step - loss: 0.5762 - accuracy: 0.6712 - val_loss: 0.5575 - val_accuracy: 0.6877\n",
            "Epoch 82/300\n",
            "69/69 [==============================] - 1s 16ms/step - loss: 0.5619 - accuracy: 0.6813 - val_loss: 0.5482 - val_accuracy: 0.6795\n",
            "Epoch 83/300\n",
            "69/69 [==============================] - 1s 15ms/step - loss: 0.5712 - accuracy: 0.6717 - val_loss: 0.5637 - val_accuracy: 0.6822\n",
            "Epoch 84/300\n",
            "69/69 [==============================] - 1s 16ms/step - loss: 0.5805 - accuracy: 0.6689 - val_loss: 0.5572 - val_accuracy: 0.6877\n",
            "Epoch 85/300\n",
            "69/69 [==============================] - 1s 17ms/step - loss: 0.5810 - accuracy: 0.6712 - val_loss: 0.5545 - val_accuracy: 0.6890\n",
            "Epoch 86/300\n",
            "69/69 [==============================] - 1s 18ms/step - loss: 0.5789 - accuracy: 0.6685 - val_loss: 0.5464 - val_accuracy: 0.6945\n",
            "Epoch 87/300\n",
            "69/69 [==============================] - 1s 18ms/step - loss: 0.5681 - accuracy: 0.6717 - val_loss: 0.5434 - val_accuracy: 0.6836\n",
            "Epoch 88/300\n",
            "69/69 [==============================] - 1s 16ms/step - loss: 0.5684 - accuracy: 0.6731 - val_loss: 0.5451 - val_accuracy: 0.6877\n",
            "Epoch 89/300\n",
            "69/69 [==============================] - 1s 16ms/step - loss: 0.5718 - accuracy: 0.6744 - val_loss: 0.5608 - val_accuracy: 0.6753\n",
            "Epoch 90/300\n",
            "69/69 [==============================] - 1s 15ms/step - loss: 0.5697 - accuracy: 0.6785 - val_loss: 0.5559 - val_accuracy: 0.6877\n",
            "Epoch 91/300\n",
            "69/69 [==============================] - 1s 16ms/step - loss: 0.5756 - accuracy: 0.6680 - val_loss: 0.5565 - val_accuracy: 0.6822\n",
            "Epoch 92/300\n",
            "69/69 [==============================] - 1s 16ms/step - loss: 0.5669 - accuracy: 0.6735 - val_loss: 0.5597 - val_accuracy: 0.6822\n",
            "Epoch 93/300\n",
            "69/69 [==============================] - 1s 16ms/step - loss: 0.5760 - accuracy: 0.6735 - val_loss: 0.5518 - val_accuracy: 0.6932\n",
            "Epoch 94/300\n",
            "69/69 [==============================] - 1s 15ms/step - loss: 0.5708 - accuracy: 0.6694 - val_loss: 0.5719 - val_accuracy: 0.6603\n",
            "Epoch 95/300\n",
            "69/69 [==============================] - 1s 15ms/step - loss: 0.5673 - accuracy: 0.6717 - val_loss: 0.5562 - val_accuracy: 0.6753\n",
            "Epoch 96/300\n",
            "69/69 [==============================] - 1s 15ms/step - loss: 0.5713 - accuracy: 0.6826 - val_loss: 0.5511 - val_accuracy: 0.6808\n",
            "Epoch 97/300\n",
            "69/69 [==============================] - 1s 17ms/step - loss: 0.5634 - accuracy: 0.6735 - val_loss: 0.5511 - val_accuracy: 0.6849\n",
            "Epoch 98/300\n",
            "69/69 [==============================] - 1s 18ms/step - loss: 0.5778 - accuracy: 0.6662 - val_loss: 0.5504 - val_accuracy: 0.6904\n",
            "Epoch 99/300\n",
            "69/69 [==============================] - 1s 18ms/step - loss: 0.5785 - accuracy: 0.6662 - val_loss: 0.5485 - val_accuracy: 0.6767\n",
            "Epoch 100/300\n",
            "69/69 [==============================] - 1s 16ms/step - loss: 0.5796 - accuracy: 0.6653 - val_loss: 0.5514 - val_accuracy: 0.6890\n",
            "Epoch 101/300\n",
            "69/69 [==============================] - 1s 16ms/step - loss: 0.5649 - accuracy: 0.6740 - val_loss: 0.5473 - val_accuracy: 0.6863\n",
            "Epoch 102/300\n",
            "69/69 [==============================] - 1s 15ms/step - loss: 0.5699 - accuracy: 0.6749 - val_loss: 0.5474 - val_accuracy: 0.6863\n",
            "Epoch 103/300\n",
            "69/69 [==============================] - 1s 15ms/step - loss: 0.5821 - accuracy: 0.6644 - val_loss: 0.5502 - val_accuracy: 0.6877\n",
            "Epoch 104/300\n",
            "69/69 [==============================] - 1s 16ms/step - loss: 0.5694 - accuracy: 0.6694 - val_loss: 0.5482 - val_accuracy: 0.6863\n",
            "Epoch 105/300\n",
            "69/69 [==============================] - 1s 16ms/step - loss: 0.5690 - accuracy: 0.6763 - val_loss: 0.5709 - val_accuracy: 0.6726\n",
            "Epoch 106/300\n",
            "69/69 [==============================] - 1s 16ms/step - loss: 0.5678 - accuracy: 0.6758 - val_loss: 0.5534 - val_accuracy: 0.6849\n",
            "Epoch 107/300\n",
            "69/69 [==============================] - 1s 16ms/step - loss: 0.5718 - accuracy: 0.6726 - val_loss: 0.5562 - val_accuracy: 0.6863\n",
            "Epoch 108/300\n",
            "69/69 [==============================] - 1s 16ms/step - loss: 0.5661 - accuracy: 0.6772 - val_loss: 0.5471 - val_accuracy: 0.6808\n",
            "Epoch 109/300\n",
            "69/69 [==============================] - 1s 18ms/step - loss: 0.5636 - accuracy: 0.6808 - val_loss: 0.5478 - val_accuracy: 0.6918\n",
            "Epoch 110/300\n",
            "69/69 [==============================] - 1s 18ms/step - loss: 0.5627 - accuracy: 0.6785 - val_loss: 0.5459 - val_accuracy: 0.6904\n",
            "Epoch 111/300\n",
            "69/69 [==============================] - 1s 17ms/step - loss: 0.5693 - accuracy: 0.6749 - val_loss: 0.5588 - val_accuracy: 0.6822\n",
            "Epoch 112/300\n",
            "69/69 [==============================] - 1s 15ms/step - loss: 0.5598 - accuracy: 0.6831 - val_loss: 0.5534 - val_accuracy: 0.6836\n",
            "Epoch 113/300\n",
            "69/69 [==============================] - 1s 15ms/step - loss: 0.5692 - accuracy: 0.6712 - val_loss: 0.5509 - val_accuracy: 0.6836\n",
            "Epoch 114/300\n",
            "69/69 [==============================] - 1s 15ms/step - loss: 0.5609 - accuracy: 0.6744 - val_loss: 0.5488 - val_accuracy: 0.6836\n",
            "Epoch 115/300\n",
            "69/69 [==============================] - 1s 16ms/step - loss: 0.5613 - accuracy: 0.6776 - val_loss: 0.5512 - val_accuracy: 0.6712\n",
            "Epoch 116/300\n",
            "69/69 [==============================] - 1s 16ms/step - loss: 0.5643 - accuracy: 0.6753 - val_loss: 0.5496 - val_accuracy: 0.6781\n",
            "Epoch 117/300\n",
            "69/69 [==============================] - 1s 16ms/step - loss: 0.5623 - accuracy: 0.6785 - val_loss: 0.5493 - val_accuracy: 0.6904\n",
            "Epoch 118/300\n",
            "69/69 [==============================] - 1s 16ms/step - loss: 0.5671 - accuracy: 0.6721 - val_loss: 0.5467 - val_accuracy: 0.6877\n",
            "Epoch 119/300\n",
            "69/69 [==============================] - 1s 15ms/step - loss: 0.5657 - accuracy: 0.6795 - val_loss: 0.5600 - val_accuracy: 0.6836\n",
            "Epoch 120/300\n",
            "69/69 [==============================] - 1s 15ms/step - loss: 0.5620 - accuracy: 0.6840 - val_loss: 0.5622 - val_accuracy: 0.6836\n",
            "Epoch 121/300\n",
            "69/69 [==============================] - 1s 19ms/step - loss: 0.5670 - accuracy: 0.6708 - val_loss: 0.5507 - val_accuracy: 0.6808\n",
            "Epoch 122/300\n",
            "69/69 [==============================] - 1s 18ms/step - loss: 0.5553 - accuracy: 0.6763 - val_loss: 0.5506 - val_accuracy: 0.6904\n",
            "Epoch 123/300\n",
            "69/69 [==============================] - 1s 18ms/step - loss: 0.5583 - accuracy: 0.6826 - val_loss: 0.5421 - val_accuracy: 0.6918\n",
            "Epoch 124/300\n",
            "17/69 [======>.......................] - ETA: 0s - loss: 0.5653 - accuracy: 0.6838"
          ]
        },
        {
          "output_type": "error",
          "ename": "KeyboardInterrupt",
          "evalue": "",
          "traceback": [
            "\u001b[0;31m---------------------------------------------------------------------------\u001b[0m",
            "\u001b[0;31mKeyboardInterrupt\u001b[0m                         Traceback (most recent call last)",
            "\u001b[0;32m<ipython-input-91-37494187f8e7>\u001b[0m in \u001b[0;36m<cell line: 1>\u001b[0;34m()\u001b[0m\n\u001b[0;32m----> 1\u001b[0;31m \u001b[0mmfit4\u001b[0m \u001b[0;34m=\u001b[0m \u001b[0mkeras_model4\u001b[0m\u001b[0;34m.\u001b[0m\u001b[0mfit\u001b[0m\u001b[0;34m(\u001b[0m\u001b[0mx_train\u001b[0m\u001b[0;34m,\u001b[0m \u001b[0my_train\u001b[0m\u001b[0;34m,\u001b[0m \u001b[0mvalidation_data\u001b[0m\u001b[0;34m=\u001b[0m\u001b[0;34m(\u001b[0m\u001b[0mx_test\u001b[0m\u001b[0;34m,\u001b[0m\u001b[0my_test\u001b[0m\u001b[0;34m)\u001b[0m\u001b[0;34m,\u001b[0m \u001b[0mbatch_size\u001b[0m\u001b[0;34m=\u001b[0m\u001b[0;36m32\u001b[0m\u001b[0;34m,\u001b[0m \u001b[0mepochs\u001b[0m\u001b[0;34m=\u001b[0m\u001b[0;36m300\u001b[0m\u001b[0;34m)\u001b[0m\u001b[0;34m\u001b[0m\u001b[0;34m\u001b[0m\u001b[0m\n\u001b[0m",
            "\u001b[0;32m/usr/local/lib/python3.10/dist-packages/keras/src/utils/traceback_utils.py\u001b[0m in \u001b[0;36merror_handler\u001b[0;34m(*args, **kwargs)\u001b[0m\n\u001b[1;32m     63\u001b[0m         \u001b[0mfiltered_tb\u001b[0m \u001b[0;34m=\u001b[0m \u001b[0;32mNone\u001b[0m\u001b[0;34m\u001b[0m\u001b[0;34m\u001b[0m\u001b[0m\n\u001b[1;32m     64\u001b[0m         \u001b[0;32mtry\u001b[0m\u001b[0;34m:\u001b[0m\u001b[0;34m\u001b[0m\u001b[0;34m\u001b[0m\u001b[0m\n\u001b[0;32m---> 65\u001b[0;31m             \u001b[0;32mreturn\u001b[0m \u001b[0mfn\u001b[0m\u001b[0;34m(\u001b[0m\u001b[0;34m*\u001b[0m\u001b[0margs\u001b[0m\u001b[0;34m,\u001b[0m \u001b[0;34m**\u001b[0m\u001b[0mkwargs\u001b[0m\u001b[0;34m)\u001b[0m\u001b[0;34m\u001b[0m\u001b[0;34m\u001b[0m\u001b[0m\n\u001b[0m\u001b[1;32m     66\u001b[0m         \u001b[0;32mexcept\u001b[0m \u001b[0mException\u001b[0m \u001b[0;32mas\u001b[0m \u001b[0me\u001b[0m\u001b[0;34m:\u001b[0m\u001b[0;34m\u001b[0m\u001b[0;34m\u001b[0m\u001b[0m\n\u001b[1;32m     67\u001b[0m             \u001b[0mfiltered_tb\u001b[0m \u001b[0;34m=\u001b[0m \u001b[0m_process_traceback_frames\u001b[0m\u001b[0;34m(\u001b[0m\u001b[0me\u001b[0m\u001b[0;34m.\u001b[0m\u001b[0m__traceback__\u001b[0m\u001b[0;34m)\u001b[0m\u001b[0;34m\u001b[0m\u001b[0;34m\u001b[0m\u001b[0m\n",
            "\u001b[0;32m/usr/local/lib/python3.10/dist-packages/keras/src/engine/training.py\u001b[0m in \u001b[0;36mfit\u001b[0;34m(self, x, y, batch_size, epochs, verbose, callbacks, validation_split, validation_data, shuffle, class_weight, sample_weight, initial_epoch, steps_per_epoch, validation_steps, validation_batch_size, validation_freq, max_queue_size, workers, use_multiprocessing)\u001b[0m\n\u001b[1;32m   1805\u001b[0m                         ):\n\u001b[1;32m   1806\u001b[0m                             \u001b[0mcallbacks\u001b[0m\u001b[0;34m.\u001b[0m\u001b[0mon_train_batch_begin\u001b[0m\u001b[0;34m(\u001b[0m\u001b[0mstep\u001b[0m\u001b[0;34m)\u001b[0m\u001b[0;34m\u001b[0m\u001b[0;34m\u001b[0m\u001b[0m\n\u001b[0;32m-> 1807\u001b[0;31m                             \u001b[0mtmp_logs\u001b[0m \u001b[0;34m=\u001b[0m \u001b[0mself\u001b[0m\u001b[0;34m.\u001b[0m\u001b[0mtrain_function\u001b[0m\u001b[0;34m(\u001b[0m\u001b[0miterator\u001b[0m\u001b[0;34m)\u001b[0m\u001b[0;34m\u001b[0m\u001b[0;34m\u001b[0m\u001b[0m\n\u001b[0m\u001b[1;32m   1808\u001b[0m                             \u001b[0;32mif\u001b[0m \u001b[0mdata_handler\u001b[0m\u001b[0;34m.\u001b[0m\u001b[0mshould_sync\u001b[0m\u001b[0;34m:\u001b[0m\u001b[0;34m\u001b[0m\u001b[0;34m\u001b[0m\u001b[0m\n\u001b[1;32m   1809\u001b[0m                                 \u001b[0mcontext\u001b[0m\u001b[0;34m.\u001b[0m\u001b[0masync_wait\u001b[0m\u001b[0;34m(\u001b[0m\u001b[0;34m)\u001b[0m\u001b[0;34m\u001b[0m\u001b[0;34m\u001b[0m\u001b[0m\n",
            "\u001b[0;32m/usr/local/lib/python3.10/dist-packages/tensorflow/python/util/traceback_utils.py\u001b[0m in \u001b[0;36merror_handler\u001b[0;34m(*args, **kwargs)\u001b[0m\n\u001b[1;32m    148\u001b[0m     \u001b[0mfiltered_tb\u001b[0m \u001b[0;34m=\u001b[0m \u001b[0;32mNone\u001b[0m\u001b[0;34m\u001b[0m\u001b[0;34m\u001b[0m\u001b[0m\n\u001b[1;32m    149\u001b[0m     \u001b[0;32mtry\u001b[0m\u001b[0;34m:\u001b[0m\u001b[0;34m\u001b[0m\u001b[0;34m\u001b[0m\u001b[0m\n\u001b[0;32m--> 150\u001b[0;31m       \u001b[0;32mreturn\u001b[0m \u001b[0mfn\u001b[0m\u001b[0;34m(\u001b[0m\u001b[0;34m*\u001b[0m\u001b[0margs\u001b[0m\u001b[0;34m,\u001b[0m \u001b[0;34m**\u001b[0m\u001b[0mkwargs\u001b[0m\u001b[0;34m)\u001b[0m\u001b[0;34m\u001b[0m\u001b[0;34m\u001b[0m\u001b[0m\n\u001b[0m\u001b[1;32m    151\u001b[0m     \u001b[0;32mexcept\u001b[0m \u001b[0mException\u001b[0m \u001b[0;32mas\u001b[0m \u001b[0me\u001b[0m\u001b[0;34m:\u001b[0m\u001b[0;34m\u001b[0m\u001b[0;34m\u001b[0m\u001b[0m\n\u001b[1;32m    152\u001b[0m       \u001b[0mfiltered_tb\u001b[0m \u001b[0;34m=\u001b[0m \u001b[0m_process_traceback_frames\u001b[0m\u001b[0;34m(\u001b[0m\u001b[0me\u001b[0m\u001b[0;34m.\u001b[0m\u001b[0m__traceback__\u001b[0m\u001b[0;34m)\u001b[0m\u001b[0;34m\u001b[0m\u001b[0;34m\u001b[0m\u001b[0m\n",
            "\u001b[0;32m/usr/local/lib/python3.10/dist-packages/tensorflow/python/eager/polymorphic_function/polymorphic_function.py\u001b[0m in \u001b[0;36m__call__\u001b[0;34m(self, *args, **kwds)\u001b[0m\n\u001b[1;32m    830\u001b[0m \u001b[0;34m\u001b[0m\u001b[0m\n\u001b[1;32m    831\u001b[0m       \u001b[0;32mwith\u001b[0m \u001b[0mOptionalXlaContext\u001b[0m\u001b[0;34m(\u001b[0m\u001b[0mself\u001b[0m\u001b[0;34m.\u001b[0m\u001b[0m_jit_compile\u001b[0m\u001b[0;34m)\u001b[0m\u001b[0;34m:\u001b[0m\u001b[0;34m\u001b[0m\u001b[0;34m\u001b[0m\u001b[0m\n\u001b[0;32m--> 832\u001b[0;31m         \u001b[0mresult\u001b[0m \u001b[0;34m=\u001b[0m \u001b[0mself\u001b[0m\u001b[0;34m.\u001b[0m\u001b[0m_call\u001b[0m\u001b[0;34m(\u001b[0m\u001b[0;34m*\u001b[0m\u001b[0margs\u001b[0m\u001b[0;34m,\u001b[0m \u001b[0;34m**\u001b[0m\u001b[0mkwds\u001b[0m\u001b[0;34m)\u001b[0m\u001b[0;34m\u001b[0m\u001b[0;34m\u001b[0m\u001b[0m\n\u001b[0m\u001b[1;32m    833\u001b[0m \u001b[0;34m\u001b[0m\u001b[0m\n\u001b[1;32m    834\u001b[0m       \u001b[0mnew_tracing_count\u001b[0m \u001b[0;34m=\u001b[0m \u001b[0mself\u001b[0m\u001b[0;34m.\u001b[0m\u001b[0mexperimental_get_tracing_count\u001b[0m\u001b[0;34m(\u001b[0m\u001b[0;34m)\u001b[0m\u001b[0;34m\u001b[0m\u001b[0;34m\u001b[0m\u001b[0m\n",
            "\u001b[0;32m/usr/local/lib/python3.10/dist-packages/tensorflow/python/eager/polymorphic_function/polymorphic_function.py\u001b[0m in \u001b[0;36m_call\u001b[0;34m(self, *args, **kwds)\u001b[0m\n\u001b[1;32m    866\u001b[0m       \u001b[0;31m# In this case we have created variables on the first call, so we run the\u001b[0m\u001b[0;34m\u001b[0m\u001b[0;34m\u001b[0m\u001b[0m\n\u001b[1;32m    867\u001b[0m       \u001b[0;31m# defunned version which is guaranteed to never create variables.\u001b[0m\u001b[0;34m\u001b[0m\u001b[0;34m\u001b[0m\u001b[0m\n\u001b[0;32m--> 868\u001b[0;31m       return tracing_compilation.call_function(\n\u001b[0m\u001b[1;32m    869\u001b[0m           \u001b[0margs\u001b[0m\u001b[0;34m,\u001b[0m \u001b[0mkwds\u001b[0m\u001b[0;34m,\u001b[0m \u001b[0mself\u001b[0m\u001b[0;34m.\u001b[0m\u001b[0m_no_variable_creation_config\u001b[0m\u001b[0;34m\u001b[0m\u001b[0;34m\u001b[0m\u001b[0m\n\u001b[1;32m    870\u001b[0m       )\n",
            "\u001b[0;32m/usr/local/lib/python3.10/dist-packages/tensorflow/python/eager/polymorphic_function/tracing_compilation.py\u001b[0m in \u001b[0;36mcall_function\u001b[0;34m(args, kwargs, tracing_options)\u001b[0m\n\u001b[1;32m    137\u001b[0m   \u001b[0mbound_args\u001b[0m \u001b[0;34m=\u001b[0m \u001b[0mfunction\u001b[0m\u001b[0;34m.\u001b[0m\u001b[0mfunction_type\u001b[0m\u001b[0;34m.\u001b[0m\u001b[0mbind\u001b[0m\u001b[0;34m(\u001b[0m\u001b[0;34m*\u001b[0m\u001b[0margs\u001b[0m\u001b[0;34m,\u001b[0m \u001b[0;34m**\u001b[0m\u001b[0mkwargs\u001b[0m\u001b[0;34m)\u001b[0m\u001b[0;34m\u001b[0m\u001b[0;34m\u001b[0m\u001b[0m\n\u001b[1;32m    138\u001b[0m   \u001b[0mflat_inputs\u001b[0m \u001b[0;34m=\u001b[0m \u001b[0mfunction\u001b[0m\u001b[0;34m.\u001b[0m\u001b[0mfunction_type\u001b[0m\u001b[0;34m.\u001b[0m\u001b[0munpack_inputs\u001b[0m\u001b[0;34m(\u001b[0m\u001b[0mbound_args\u001b[0m\u001b[0;34m)\u001b[0m\u001b[0;34m\u001b[0m\u001b[0;34m\u001b[0m\u001b[0m\n\u001b[0;32m--> 139\u001b[0;31m   return function._call_flat(  # pylint: disable=protected-access\n\u001b[0m\u001b[1;32m    140\u001b[0m       \u001b[0mflat_inputs\u001b[0m\u001b[0;34m,\u001b[0m \u001b[0mcaptured_inputs\u001b[0m\u001b[0;34m=\u001b[0m\u001b[0mfunction\u001b[0m\u001b[0;34m.\u001b[0m\u001b[0mcaptured_inputs\u001b[0m\u001b[0;34m\u001b[0m\u001b[0;34m\u001b[0m\u001b[0m\n\u001b[1;32m    141\u001b[0m   )\n",
            "\u001b[0;32m/usr/local/lib/python3.10/dist-packages/tensorflow/python/eager/polymorphic_function/concrete_function.py\u001b[0m in \u001b[0;36m_call_flat\u001b[0;34m(self, tensor_inputs, captured_inputs)\u001b[0m\n\u001b[1;32m   1321\u001b[0m         and executing_eagerly):\n\u001b[1;32m   1322\u001b[0m       \u001b[0;31m# No tape is watching; skip to running the function.\u001b[0m\u001b[0;34m\u001b[0m\u001b[0;34m\u001b[0m\u001b[0m\n\u001b[0;32m-> 1323\u001b[0;31m       \u001b[0;32mreturn\u001b[0m \u001b[0mself\u001b[0m\u001b[0;34m.\u001b[0m\u001b[0m_inference_function\u001b[0m\u001b[0;34m.\u001b[0m\u001b[0mcall_preflattened\u001b[0m\u001b[0;34m(\u001b[0m\u001b[0margs\u001b[0m\u001b[0;34m)\u001b[0m\u001b[0;34m\u001b[0m\u001b[0;34m\u001b[0m\u001b[0m\n\u001b[0m\u001b[1;32m   1324\u001b[0m     forward_backward = self._select_forward_and_backward_functions(\n\u001b[1;32m   1325\u001b[0m         \u001b[0margs\u001b[0m\u001b[0;34m,\u001b[0m\u001b[0;34m\u001b[0m\u001b[0;34m\u001b[0m\u001b[0m\n",
            "\u001b[0;32m/usr/local/lib/python3.10/dist-packages/tensorflow/python/eager/polymorphic_function/atomic_function.py\u001b[0m in \u001b[0;36mcall_preflattened\u001b[0;34m(self, args)\u001b[0m\n\u001b[1;32m    214\u001b[0m   \u001b[0;32mdef\u001b[0m \u001b[0mcall_preflattened\u001b[0m\u001b[0;34m(\u001b[0m\u001b[0mself\u001b[0m\u001b[0;34m,\u001b[0m \u001b[0margs\u001b[0m\u001b[0;34m:\u001b[0m \u001b[0mSequence\u001b[0m\u001b[0;34m[\u001b[0m\u001b[0mcore\u001b[0m\u001b[0;34m.\u001b[0m\u001b[0mTensor\u001b[0m\u001b[0;34m]\u001b[0m\u001b[0;34m)\u001b[0m \u001b[0;34m->\u001b[0m \u001b[0mAny\u001b[0m\u001b[0;34m:\u001b[0m\u001b[0;34m\u001b[0m\u001b[0;34m\u001b[0m\u001b[0m\n\u001b[1;32m    215\u001b[0m     \u001b[0;34m\"\"\"Calls with flattened tensor inputs and returns the structured output.\"\"\"\u001b[0m\u001b[0;34m\u001b[0m\u001b[0;34m\u001b[0m\u001b[0m\n\u001b[0;32m--> 216\u001b[0;31m     \u001b[0mflat_outputs\u001b[0m \u001b[0;34m=\u001b[0m \u001b[0mself\u001b[0m\u001b[0;34m.\u001b[0m\u001b[0mcall_flat\u001b[0m\u001b[0;34m(\u001b[0m\u001b[0;34m*\u001b[0m\u001b[0margs\u001b[0m\u001b[0;34m)\u001b[0m\u001b[0;34m\u001b[0m\u001b[0;34m\u001b[0m\u001b[0m\n\u001b[0m\u001b[1;32m    217\u001b[0m     \u001b[0;32mreturn\u001b[0m \u001b[0mself\u001b[0m\u001b[0;34m.\u001b[0m\u001b[0mfunction_type\u001b[0m\u001b[0;34m.\u001b[0m\u001b[0mpack_output\u001b[0m\u001b[0;34m(\u001b[0m\u001b[0mflat_outputs\u001b[0m\u001b[0;34m)\u001b[0m\u001b[0;34m\u001b[0m\u001b[0;34m\u001b[0m\u001b[0m\n\u001b[1;32m    218\u001b[0m \u001b[0;34m\u001b[0m\u001b[0m\n",
            "\u001b[0;32m/usr/local/lib/python3.10/dist-packages/tensorflow/python/eager/polymorphic_function/atomic_function.py\u001b[0m in \u001b[0;36mcall_flat\u001b[0;34m(self, *args)\u001b[0m\n\u001b[1;32m    249\u001b[0m         \u001b[0;32mwith\u001b[0m \u001b[0mrecord\u001b[0m\u001b[0;34m.\u001b[0m\u001b[0mstop_recording\u001b[0m\u001b[0;34m(\u001b[0m\u001b[0;34m)\u001b[0m\u001b[0;34m:\u001b[0m\u001b[0;34m\u001b[0m\u001b[0;34m\u001b[0m\u001b[0m\n\u001b[1;32m    250\u001b[0m           \u001b[0;32mif\u001b[0m \u001b[0mself\u001b[0m\u001b[0;34m.\u001b[0m\u001b[0m_bound_context\u001b[0m\u001b[0;34m.\u001b[0m\u001b[0mexecuting_eagerly\u001b[0m\u001b[0;34m(\u001b[0m\u001b[0;34m)\u001b[0m\u001b[0;34m:\u001b[0m\u001b[0;34m\u001b[0m\u001b[0;34m\u001b[0m\u001b[0m\n\u001b[0;32m--> 251\u001b[0;31m             outputs = self._bound_context.call_function(\n\u001b[0m\u001b[1;32m    252\u001b[0m                 \u001b[0mself\u001b[0m\u001b[0;34m.\u001b[0m\u001b[0mname\u001b[0m\u001b[0;34m,\u001b[0m\u001b[0;34m\u001b[0m\u001b[0;34m\u001b[0m\u001b[0m\n\u001b[1;32m    253\u001b[0m                 \u001b[0mlist\u001b[0m\u001b[0;34m(\u001b[0m\u001b[0margs\u001b[0m\u001b[0;34m)\u001b[0m\u001b[0;34m,\u001b[0m\u001b[0;34m\u001b[0m\u001b[0;34m\u001b[0m\u001b[0m\n",
            "\u001b[0;32m/usr/local/lib/python3.10/dist-packages/tensorflow/python/eager/context.py\u001b[0m in \u001b[0;36mcall_function\u001b[0;34m(self, name, tensor_inputs, num_outputs)\u001b[0m\n\u001b[1;32m   1484\u001b[0m     \u001b[0mcancellation_context\u001b[0m \u001b[0;34m=\u001b[0m \u001b[0mcancellation\u001b[0m\u001b[0;34m.\u001b[0m\u001b[0mcontext\u001b[0m\u001b[0;34m(\u001b[0m\u001b[0;34m)\u001b[0m\u001b[0;34m\u001b[0m\u001b[0;34m\u001b[0m\u001b[0m\n\u001b[1;32m   1485\u001b[0m     \u001b[0;32mif\u001b[0m \u001b[0mcancellation_context\u001b[0m \u001b[0;32mis\u001b[0m \u001b[0;32mNone\u001b[0m\u001b[0;34m:\u001b[0m\u001b[0;34m\u001b[0m\u001b[0;34m\u001b[0m\u001b[0m\n\u001b[0;32m-> 1486\u001b[0;31m       outputs = execute.execute(\n\u001b[0m\u001b[1;32m   1487\u001b[0m           \u001b[0mname\u001b[0m\u001b[0;34m.\u001b[0m\u001b[0mdecode\u001b[0m\u001b[0;34m(\u001b[0m\u001b[0;34m\"utf-8\"\u001b[0m\u001b[0;34m)\u001b[0m\u001b[0;34m,\u001b[0m\u001b[0;34m\u001b[0m\u001b[0;34m\u001b[0m\u001b[0m\n\u001b[1;32m   1488\u001b[0m           \u001b[0mnum_outputs\u001b[0m\u001b[0;34m=\u001b[0m\u001b[0mnum_outputs\u001b[0m\u001b[0;34m,\u001b[0m\u001b[0;34m\u001b[0m\u001b[0;34m\u001b[0m\u001b[0m\n",
            "\u001b[0;32m/usr/local/lib/python3.10/dist-packages/tensorflow/python/eager/execute.py\u001b[0m in \u001b[0;36mquick_execute\u001b[0;34m(op_name, num_outputs, inputs, attrs, ctx, name)\u001b[0m\n\u001b[1;32m     51\u001b[0m   \u001b[0;32mtry\u001b[0m\u001b[0;34m:\u001b[0m\u001b[0;34m\u001b[0m\u001b[0;34m\u001b[0m\u001b[0m\n\u001b[1;32m     52\u001b[0m     \u001b[0mctx\u001b[0m\u001b[0;34m.\u001b[0m\u001b[0mensure_initialized\u001b[0m\u001b[0;34m(\u001b[0m\u001b[0;34m)\u001b[0m\u001b[0;34m\u001b[0m\u001b[0;34m\u001b[0m\u001b[0m\n\u001b[0;32m---> 53\u001b[0;31m     tensors = pywrap_tfe.TFE_Py_Execute(ctx._handle, device_name, op_name,\n\u001b[0m\u001b[1;32m     54\u001b[0m                                         inputs, attrs, num_outputs)\n\u001b[1;32m     55\u001b[0m   \u001b[0;32mexcept\u001b[0m \u001b[0mcore\u001b[0m\u001b[0;34m.\u001b[0m\u001b[0m_NotOkStatusException\u001b[0m \u001b[0;32mas\u001b[0m \u001b[0me\u001b[0m\u001b[0;34m:\u001b[0m\u001b[0;34m\u001b[0m\u001b[0;34m\u001b[0m\u001b[0m\n",
            "\u001b[0;31mKeyboardInterrupt\u001b[0m: "
          ]
        }
      ],
      "source": [
        "mfit4 = keras_model4.fit(x_train, y_train, validation_data=(x_test,y_test), batch_size=32, epochs=300)"
      ]
    },
    {
      "cell_type": "code",
      "source": [
        "from keras.models import load_model\n",
        "\n",
        "from keras.callbacks import Callback\n",
        "import os\n",
        "\n",
        "class SaveModelCallback(Callback):\n",
        "    def __init__(self, save_dir):\n",
        "        super(SaveModelCallback, self).__init__()\n",
        "        self.save_dir = save_dir\n",
        "\n",
        "    def on_epoch_end(self, epoch, logs=None):\n",
        "        # Create a directory to save the model for each epoch\n",
        "        epoch_save_dir = os.path.join(self.save_dir, f'epoch_{epoch+1}')\n",
        "        os.makedirs(epoch_save_dir, exist_ok=True)\n",
        "\n",
        "        # Save the entire model (architecture, weights, training config)\n",
        "        model_save_path = os.path.join(epoch_save_dir, 'model.h5')\n",
        "        self.model.save(model_save_path)\n",
        "\n",
        "# Usage:\n",
        "# Initialize the callback with the directory where you want to save the model\n",
        "save_model_callback = SaveModelCallback(save_dir='/content/drive/MyDrive/weights_model/BATCH_DEF_6_PAPER_MARZO')\n",
        "\n",
        "# Train the model using the callback\n",
        "history = keras_model4.fit(x_train, y_train, validation_data=(x_test, y_test), epochs=100, callbacks=[save_model_callback])\n",
        "\n",
        "\n"
      ],
      "metadata": {
        "id": "0Od6tkkmjp3y",
        "colab": {
          "base_uri": "https://localhost:8080/"
        },
        "outputId": "63ba8149-f6aa-404f-e14c-6ecbfdc1aff5"
      },
      "execution_count": null,
      "outputs": [
        {
          "output_type": "stream",
          "name": "stdout",
          "text": [
            "Epoch 1/100\n",
            " 4/69 [>.............................] - ETA: 1s - loss: 0.7202 - accuracy: 0.4766  "
          ]
        },
        {
          "output_type": "stream",
          "name": "stderr",
          "text": [
            "WARNING:tensorflow:Callback method `on_train_batch_end` is slow compared to the batch time (batch time: 0.0083s vs `on_train_batch_end` time: 0.0087s). Check your callbacks.\n"
          ]
        },
        {
          "output_type": "stream",
          "name": "stdout",
          "text": [
            "69/69 [==============================] - 4s 21ms/step - loss: 0.6736 - accuracy: 0.5836 - val_loss: 0.6184 - val_accuracy: 0.6877\n",
            "Epoch 2/100\n",
            " 5/69 [=>............................] - ETA: 0s - loss: 0.6201 - accuracy: 0.6375"
          ]
        },
        {
          "output_type": "stream",
          "name": "stderr",
          "text": [
            "/usr/local/lib/python3.10/dist-packages/keras/src/engine/training.py:3103: UserWarning: You are saving your model as an HDF5 file via `model.save()`. This file format is considered legacy. We recommend using instead the native Keras format, e.g. `model.save('my_model.keras')`.\n",
            "  saving_api.save_model(\n"
          ]
        },
        {
          "output_type": "stream",
          "name": "stdout",
          "text": [
            "69/69 [==============================] - 1s 16ms/step - loss: 0.6349 - accuracy: 0.6425 - val_loss: 0.6259 - val_accuracy: 0.6836\n",
            "Epoch 3/100\n",
            "69/69 [==============================] - 1s 16ms/step - loss: 0.6235 - accuracy: 0.6589 - val_loss: 0.5906 - val_accuracy: 0.6822\n",
            "Epoch 4/100\n",
            "69/69 [==============================] - 1s 17ms/step - loss: 0.6063 - accuracy: 0.6635 - val_loss: 0.5802 - val_accuracy: 0.6849\n",
            "Epoch 5/100\n",
            "69/69 [==============================] - 1s 16ms/step - loss: 0.6185 - accuracy: 0.6644 - val_loss: 0.5775 - val_accuracy: 0.6726\n",
            "Epoch 6/100\n",
            "69/69 [==============================] - 1s 17ms/step - loss: 0.6037 - accuracy: 0.6726 - val_loss: 0.5678 - val_accuracy: 0.6890\n",
            "Epoch 7/100\n",
            "69/69 [==============================] - 1s 17ms/step - loss: 0.5984 - accuracy: 0.6790 - val_loss: 0.5726 - val_accuracy: 0.7041\n",
            "Epoch 8/100\n",
            "69/69 [==============================] - 1s 20ms/step - loss: 0.5917 - accuracy: 0.6858 - val_loss: 0.5473 - val_accuracy: 0.7082\n",
            "Epoch 9/100\n",
            "69/69 [==============================] - 1s 20ms/step - loss: 0.5837 - accuracy: 0.6822 - val_loss: 0.5585 - val_accuracy: 0.6849\n",
            "Epoch 10/100\n",
            "69/69 [==============================] - 1s 18ms/step - loss: 0.5758 - accuracy: 0.6877 - val_loss: 0.5766 - val_accuracy: 0.6973\n",
            "Epoch 11/100\n",
            "69/69 [==============================] - 1s 16ms/step - loss: 0.5795 - accuracy: 0.7018 - val_loss: 0.6036 - val_accuracy: 0.6603\n",
            "Epoch 12/100\n",
            "69/69 [==============================] - 1s 17ms/step - loss: 0.5815 - accuracy: 0.6886 - val_loss: 0.5550 - val_accuracy: 0.7014\n",
            "Epoch 13/100\n",
            "69/69 [==============================] - 1s 17ms/step - loss: 0.5734 - accuracy: 0.6941 - val_loss: 0.5485 - val_accuracy: 0.6932\n",
            "Epoch 14/100\n",
            "69/69 [==============================] - 1s 17ms/step - loss: 0.5720 - accuracy: 0.7078 - val_loss: 0.5520 - val_accuracy: 0.6986\n",
            "Epoch 15/100\n",
            "69/69 [==============================] - 1s 17ms/step - loss: 0.5758 - accuracy: 0.6909 - val_loss: 0.5522 - val_accuracy: 0.6863\n",
            "Epoch 16/100\n",
            "69/69 [==============================] - 1s 17ms/step - loss: 0.5620 - accuracy: 0.7027 - val_loss: 0.5321 - val_accuracy: 0.7082\n",
            "Epoch 17/100\n",
            "69/69 [==============================] - 1s 16ms/step - loss: 0.5467 - accuracy: 0.7091 - val_loss: 0.5536 - val_accuracy: 0.6973\n",
            "Epoch 18/100\n",
            "69/69 [==============================] - 1s 16ms/step - loss: 0.5607 - accuracy: 0.7059 - val_loss: 0.5302 - val_accuracy: 0.7068\n",
            "Epoch 19/100\n",
            "69/69 [==============================] - 1s 18ms/step - loss: 0.5479 - accuracy: 0.7078 - val_loss: 0.5671 - val_accuracy: 0.6753\n",
            "Epoch 20/100\n",
            "69/69 [==============================] - 1s 20ms/step - loss: 0.5467 - accuracy: 0.7023 - val_loss: 0.5186 - val_accuracy: 0.7082\n",
            "Epoch 21/100\n",
            "69/69 [==============================] - 1s 19ms/step - loss: 0.5349 - accuracy: 0.7201 - val_loss: 0.5128 - val_accuracy: 0.7192\n",
            "Epoch 22/100\n",
            "69/69 [==============================] - 1s 16ms/step - loss: 0.5482 - accuracy: 0.7128 - val_loss: 0.5178 - val_accuracy: 0.7110\n",
            "Epoch 23/100\n",
            "69/69 [==============================] - 1s 17ms/step - loss: 0.5295 - accuracy: 0.7306 - val_loss: 0.5079 - val_accuracy: 0.7301\n",
            "Epoch 24/100\n",
            "69/69 [==============================] - 1s 17ms/step - loss: 0.5292 - accuracy: 0.7192 - val_loss: 0.5063 - val_accuracy: 0.7178\n",
            "Epoch 25/100\n",
            "69/69 [==============================] - 1s 16ms/step - loss: 0.5277 - accuracy: 0.7237 - val_loss: 0.5256 - val_accuracy: 0.7356\n",
            "Epoch 26/100\n",
            "69/69 [==============================] - 1s 16ms/step - loss: 0.5147 - accuracy: 0.7420 - val_loss: 0.5105 - val_accuracy: 0.7521\n",
            "Epoch 27/100\n",
            "69/69 [==============================] - 1s 17ms/step - loss: 0.5080 - accuracy: 0.7457 - val_loss: 0.5483 - val_accuracy: 0.7315\n",
            "Epoch 28/100\n",
            "69/69 [==============================] - 1s 16ms/step - loss: 0.5152 - accuracy: 0.7397 - val_loss: 0.5202 - val_accuracy: 0.7123\n",
            "Epoch 29/100\n",
            "69/69 [==============================] - 1s 17ms/step - loss: 0.5175 - accuracy: 0.7484 - val_loss: 0.5240 - val_accuracy: 0.7466\n",
            "Epoch 30/100\n",
            "69/69 [==============================] - 1s 18ms/step - loss: 0.5069 - accuracy: 0.7443 - val_loss: 0.4860 - val_accuracy: 0.7767\n",
            "Epoch 31/100\n",
            "69/69 [==============================] - 1s 20ms/step - loss: 0.4786 - accuracy: 0.7658 - val_loss: 0.4784 - val_accuracy: 0.7466\n",
            "Epoch 32/100\n",
            "69/69 [==============================] - 1s 19ms/step - loss: 0.4974 - accuracy: 0.7594 - val_loss: 0.5278 - val_accuracy: 0.7192\n",
            "Epoch 33/100\n",
            "69/69 [==============================] - 1s 17ms/step - loss: 0.4884 - accuracy: 0.7548 - val_loss: 0.4859 - val_accuracy: 0.7658\n",
            "Epoch 34/100\n",
            "69/69 [==============================] - 1s 17ms/step - loss: 0.4728 - accuracy: 0.7694 - val_loss: 0.4629 - val_accuracy: 0.7849\n",
            "Epoch 35/100\n",
            "69/69 [==============================] - 1s 17ms/step - loss: 0.4564 - accuracy: 0.7676 - val_loss: 0.4482 - val_accuracy: 0.7932\n",
            "Epoch 36/100\n",
            "69/69 [==============================] - 1s 16ms/step - loss: 0.4756 - accuracy: 0.7699 - val_loss: 0.4520 - val_accuracy: 0.7808\n",
            "Epoch 37/100\n",
            "69/69 [==============================] - 1s 17ms/step - loss: 0.4447 - accuracy: 0.7845 - val_loss: 0.4361 - val_accuracy: 0.7959\n",
            "Epoch 38/100\n",
            "69/69 [==============================] - 1s 16ms/step - loss: 0.4492 - accuracy: 0.7804 - val_loss: 0.4409 - val_accuracy: 0.7932\n",
            "Epoch 39/100\n",
            "69/69 [==============================] - 1s 16ms/step - loss: 0.4486 - accuracy: 0.7836 - val_loss: 0.4309 - val_accuracy: 0.7959\n",
            "Epoch 40/100\n",
            "69/69 [==============================] - 1s 17ms/step - loss: 0.4385 - accuracy: 0.7954 - val_loss: 0.4229 - val_accuracy: 0.8027\n",
            "Epoch 41/100\n",
            "69/69 [==============================] - 1s 18ms/step - loss: 0.4253 - accuracy: 0.8046 - val_loss: 0.4231 - val_accuracy: 0.8110\n",
            "Epoch 42/100\n",
            "69/69 [==============================] - 1s 19ms/step - loss: 0.4200 - accuracy: 0.8000 - val_loss: 0.4179 - val_accuracy: 0.8137\n",
            "Epoch 43/100\n",
            "69/69 [==============================] - 1s 19ms/step - loss: 0.4289 - accuracy: 0.7868 - val_loss: 0.4316 - val_accuracy: 0.8000\n",
            "Epoch 44/100\n",
            "69/69 [==============================] - 1s 17ms/step - loss: 0.4199 - accuracy: 0.8050 - val_loss: 0.4375 - val_accuracy: 0.8041\n",
            "Epoch 45/100\n",
            "69/69 [==============================] - 1s 16ms/step - loss: 0.4279 - accuracy: 0.7991 - val_loss: 0.4240 - val_accuracy: 0.8041\n",
            "Epoch 46/100\n",
            "69/69 [==============================] - 1s 17ms/step - loss: 0.4252 - accuracy: 0.7963 - val_loss: 0.4818 - val_accuracy: 0.7493\n",
            "Epoch 47/100\n",
            "69/69 [==============================] - 1s 17ms/step - loss: 0.4386 - accuracy: 0.7918 - val_loss: 0.4106 - val_accuracy: 0.8082\n",
            "Epoch 48/100\n",
            "69/69 [==============================] - 1s 16ms/step - loss: 0.4114 - accuracy: 0.8027 - val_loss: 0.4115 - val_accuracy: 0.8192\n",
            "Epoch 49/100\n",
            "69/69 [==============================] - 1s 17ms/step - loss: 0.4261 - accuracy: 0.7826 - val_loss: 0.4281 - val_accuracy: 0.7986\n",
            "Epoch 50/100\n",
            "69/69 [==============================] - 1s 17ms/step - loss: 0.4088 - accuracy: 0.8091 - val_loss: 0.4205 - val_accuracy: 0.7904\n",
            "Epoch 51/100\n",
            "69/69 [==============================] - 1s 16ms/step - loss: 0.4117 - accuracy: 0.8032 - val_loss: 0.4282 - val_accuracy: 0.8068\n",
            "Epoch 52/100\n",
            "69/69 [==============================] - 1s 17ms/step - loss: 0.3969 - accuracy: 0.8224 - val_loss: 0.4082 - val_accuracy: 0.8123\n",
            "Epoch 53/100\n",
            "69/69 [==============================] - 1s 19ms/step - loss: 0.4100 - accuracy: 0.8114 - val_loss: 0.4113 - val_accuracy: 0.8068\n",
            "Epoch 54/100\n",
            "69/69 [==============================] - 1s 20ms/step - loss: 0.3917 - accuracy: 0.8183 - val_loss: 0.3914 - val_accuracy: 0.8288\n",
            "Epoch 55/100\n",
            "69/69 [==============================] - 1s 17ms/step - loss: 0.3858 - accuracy: 0.8187 - val_loss: 0.4059 - val_accuracy: 0.8164\n",
            "Epoch 56/100\n",
            "69/69 [==============================] - 1s 17ms/step - loss: 0.3944 - accuracy: 0.8205 - val_loss: 0.4655 - val_accuracy: 0.7767\n",
            "Epoch 57/100\n",
            "69/69 [==============================] - 1s 16ms/step - loss: 0.4048 - accuracy: 0.8178 - val_loss: 0.4019 - val_accuracy: 0.8110\n",
            "Epoch 58/100\n",
            "69/69 [==============================] - 1s 17ms/step - loss: 0.3899 - accuracy: 0.8215 - val_loss: 0.3980 - val_accuracy: 0.8123\n",
            "Epoch 59/100\n",
            "69/69 [==============================] - 1s 16ms/step - loss: 0.3985 - accuracy: 0.8151 - val_loss: 0.4070 - val_accuracy: 0.8000\n",
            "Epoch 60/100\n",
            "69/69 [==============================] - 1s 16ms/step - loss: 0.3889 - accuracy: 0.8210 - val_loss: 0.3899 - val_accuracy: 0.8178\n",
            "Epoch 61/100\n",
            "69/69 [==============================] - 1s 17ms/step - loss: 0.3841 - accuracy: 0.8279 - val_loss: 0.4072 - val_accuracy: 0.8205\n",
            "Epoch 62/100\n",
            "69/69 [==============================] - 1s 16ms/step - loss: 0.3771 - accuracy: 0.8219 - val_loss: 0.4236 - val_accuracy: 0.8014\n",
            "Epoch 63/100\n",
            "69/69 [==============================] - 1s 17ms/step - loss: 0.3836 - accuracy: 0.8183 - val_loss: 0.3956 - val_accuracy: 0.8192\n",
            "Epoch 64/100\n",
            "69/69 [==============================] - 2s 22ms/step - loss: 0.3823 - accuracy: 0.8164 - val_loss: 0.4068 - val_accuracy: 0.7973\n",
            "Epoch 65/100\n",
            "69/69 [==============================] - 1s 19ms/step - loss: 0.3753 - accuracy: 0.8315 - val_loss: 0.4167 - val_accuracy: 0.8000\n",
            "Epoch 66/100\n",
            "69/69 [==============================] - 1s 16ms/step - loss: 0.3804 - accuracy: 0.8297 - val_loss: 0.3982 - val_accuracy: 0.8082\n",
            "Epoch 67/100\n",
            "69/69 [==============================] - 1s 17ms/step - loss: 0.3956 - accuracy: 0.8224 - val_loss: 0.3868 - val_accuracy: 0.8205\n",
            "Epoch 68/100\n",
            "69/69 [==============================] - 1s 16ms/step - loss: 0.3811 - accuracy: 0.8251 - val_loss: 0.3974 - val_accuracy: 0.8205\n",
            "Epoch 69/100\n",
            "69/69 [==============================] - 1s 17ms/step - loss: 0.3704 - accuracy: 0.8237 - val_loss: 0.4023 - val_accuracy: 0.8151\n",
            "Epoch 70/100\n",
            "69/69 [==============================] - 1s 17ms/step - loss: 0.3770 - accuracy: 0.8256 - val_loss: 0.3921 - val_accuracy: 0.8219\n",
            "Epoch 71/100\n",
            "69/69 [==============================] - 1s 16ms/step - loss: 0.3519 - accuracy: 0.8470 - val_loss: 0.3907 - val_accuracy: 0.8205\n",
            "Epoch 72/100\n",
            "69/69 [==============================] - 1s 16ms/step - loss: 0.3647 - accuracy: 0.8324 - val_loss: 0.3996 - val_accuracy: 0.8219\n",
            "Epoch 73/100\n",
            "69/69 [==============================] - 1s 16ms/step - loss: 0.3627 - accuracy: 0.8242 - val_loss: 0.3969 - val_accuracy: 0.8178\n",
            "Epoch 74/100\n",
            "69/69 [==============================] - 1s 18ms/step - loss: 0.3487 - accuracy: 0.8425 - val_loss: 0.3948 - val_accuracy: 0.8233\n",
            "Epoch 75/100\n",
            "69/69 [==============================] - 1s 18ms/step - loss: 0.3522 - accuracy: 0.8370 - val_loss: 0.4159 - val_accuracy: 0.8082\n",
            "Epoch 76/100\n",
            "69/69 [==============================] - 1s 19ms/step - loss: 0.3672 - accuracy: 0.8315 - val_loss: 0.4197 - val_accuracy: 0.8014\n",
            "Epoch 77/100\n",
            "69/69 [==============================] - 1s 17ms/step - loss: 0.3531 - accuracy: 0.8388 - val_loss: 0.4000 - val_accuracy: 0.8096\n",
            "Epoch 78/100\n",
            "69/69 [==============================] - 1s 17ms/step - loss: 0.3498 - accuracy: 0.8342 - val_loss: 0.4225 - val_accuracy: 0.8068\n",
            "Epoch 79/100\n",
            "69/69 [==============================] - 1s 17ms/step - loss: 0.3526 - accuracy: 0.8324 - val_loss: 0.4075 - val_accuracy: 0.8192\n",
            "Epoch 80/100\n",
            "69/69 [==============================] - 1s 17ms/step - loss: 0.3519 - accuracy: 0.8397 - val_loss: 0.3936 - val_accuracy: 0.8301\n",
            "Epoch 81/100\n",
            "69/69 [==============================] - 1s 17ms/step - loss: 0.3386 - accuracy: 0.8447 - val_loss: 0.3906 - val_accuracy: 0.8219\n",
            "Epoch 82/100\n",
            "69/69 [==============================] - 1s 17ms/step - loss: 0.3479 - accuracy: 0.8370 - val_loss: 0.4033 - val_accuracy: 0.8041\n",
            "Epoch 83/100\n",
            "69/69 [==============================] - 1s 17ms/step - loss: 0.3431 - accuracy: 0.8406 - val_loss: 0.3957 - val_accuracy: 0.8260\n",
            "Epoch 84/100\n",
            "69/69 [==============================] - 1s 16ms/step - loss: 0.3388 - accuracy: 0.8384 - val_loss: 0.3979 - val_accuracy: 0.8110\n",
            "Epoch 85/100\n",
            "69/69 [==============================] - 1s 17ms/step - loss: 0.3435 - accuracy: 0.8434 - val_loss: 0.3942 - val_accuracy: 0.8123\n",
            "Epoch 86/100\n",
            "69/69 [==============================] - 1s 19ms/step - loss: 0.3357 - accuracy: 0.8539 - val_loss: 0.3872 - val_accuracy: 0.8219\n",
            "Epoch 87/100\n",
            "69/69 [==============================] - 1s 19ms/step - loss: 0.3259 - accuracy: 0.8521 - val_loss: 0.4004 - val_accuracy: 0.8137\n",
            "Epoch 88/100\n",
            "69/69 [==============================] - 1s 17ms/step - loss: 0.3335 - accuracy: 0.8502 - val_loss: 0.4059 - val_accuracy: 0.8260\n",
            "Epoch 89/100\n",
            "69/69 [==============================] - 1s 17ms/step - loss: 0.3416 - accuracy: 0.8507 - val_loss: 0.4018 - val_accuracy: 0.8178\n",
            "Epoch 90/100\n",
            "69/69 [==============================] - 1s 17ms/step - loss: 0.3301 - accuracy: 0.8447 - val_loss: 0.4250 - val_accuracy: 0.8041\n",
            "Epoch 91/100\n",
            "69/69 [==============================] - 1s 17ms/step - loss: 0.3394 - accuracy: 0.8452 - val_loss: 0.3901 - val_accuracy: 0.8205\n",
            "Epoch 92/100\n",
            "69/69 [==============================] - 1s 17ms/step - loss: 0.3197 - accuracy: 0.8507 - val_loss: 0.4207 - val_accuracy: 0.8137\n",
            "Epoch 93/100\n",
            "69/69 [==============================] - 1s 16ms/step - loss: 0.3360 - accuracy: 0.8498 - val_loss: 0.3869 - val_accuracy: 0.8288\n",
            "Epoch 94/100\n",
            "69/69 [==============================] - 1s 17ms/step - loss: 0.3280 - accuracy: 0.8562 - val_loss: 0.4033 - val_accuracy: 0.8178\n",
            "Epoch 95/100\n",
            "69/69 [==============================] - 1s 16ms/step - loss: 0.3351 - accuracy: 0.8416 - val_loss: 0.3870 - val_accuracy: 0.8219\n",
            "Epoch 96/100\n",
            "69/69 [==============================] - 1s 17ms/step - loss: 0.3389 - accuracy: 0.8425 - val_loss: 0.3908 - val_accuracy: 0.8288\n",
            "Epoch 97/100\n",
            "69/69 [==============================] - 1s 19ms/step - loss: 0.3071 - accuracy: 0.8589 - val_loss: 0.4028 - val_accuracy: 0.8164\n",
            "Epoch 98/100\n",
            "69/69 [==============================] - 1s 20ms/step - loss: 0.3173 - accuracy: 0.8525 - val_loss: 0.3875 - val_accuracy: 0.8384\n",
            "Epoch 99/100\n",
            "69/69 [==============================] - 1s 18ms/step - loss: 0.3081 - accuracy: 0.8562 - val_loss: 0.3966 - val_accuracy: 0.8192\n",
            "Epoch 100/100\n",
            "69/69 [==============================] - 1s 17ms/step - loss: 0.3069 - accuracy: 0.8493 - val_loss: 0.3976 - val_accuracy: 0.8151\n"
          ]
        }
      ]
    },
    {
      "cell_type": "code",
      "source": [
        "# Assuming 'model' is your Keras model\n",
        "keras_model4.save('/content/drive/MyDrive/mfit4_validation.h5')\n",
        "keras_model4.save_weights('/content/drive/MyDrive/mfit4_weights.h5')"
      ],
      "metadata": {
        "id": "piziz3_2k3u4"
      },
      "execution_count": null,
      "outputs": []
    },
    {
      "cell_type": "code",
      "source": [],
      "metadata": {
        "colab": {
          "base_uri": "https://localhost:8080/",
          "height": 179
        },
        "id": "M1aB652spgl3",
        "outputId": "899f527e-dc3b-47b6-d82a-6e7e6476d1d3"
      },
      "execution_count": null,
      "outputs": [
        {
          "output_type": "error",
          "ename": "IndexError",
          "evalue": "ignored",
          "traceback": [
            "\u001b[0;31m---------------------------------------------------------------------------\u001b[0m",
            "\u001b[0;31mIndexError\u001b[0m                                Traceback (most recent call last)",
            "\u001b[0;32m<ipython-input-185-c0d4b3ab5f1e>\u001b[0m in \u001b[0;36m<cell line: 1>\u001b[0;34m()\u001b[0m\n\u001b[0;32m----> 1\u001b[0;31m \u001b[0my_pred\u001b[0m\u001b[0;34m[\u001b[0m\u001b[0;36m1\u001b[0m\u001b[0;34m]\u001b[0m\u001b[0;34m\u001b[0m\u001b[0;34m\u001b[0m\u001b[0m\n\u001b[0m",
            "\u001b[0;31mIndexError\u001b[0m: index 1 is out of bounds for axis 0 with size 0"
          ]
        }
      ]
    },
    {
      "cell_type": "code",
      "source": [
        "from google.colab import drive\n",
        "drive.flush_and_unmount()\n",
        "drive.mount('/content/drive')"
      ],
      "metadata": {
        "colab": {
          "base_uri": "https://localhost:8080/"
        },
        "id": "IcjO39ZNfPSp",
        "outputId": "3f05661c-6d8b-4427-ff2b-1965d8338eca"
      },
      "execution_count": null,
      "outputs": [
        {
          "output_type": "stream",
          "name": "stdout",
          "text": [
            "Mounted at /content/drive\n"
          ]
        }
      ]
    },
    {
      "cell_type": "code",
      "source": [
        "##NUEVOS DATOS PARA PREDECIR\n",
        "\n",
        "dataset = 'PREDICTIONS'\n",
        "DATADIR = \"/content/drive/MyDrive/\"+ dataset +\"/\"\n",
        "CATEGORIES = ['wt','mutant']\n",
        "wt_folder = '/content/drive/MyDrive/'+dataset+'/wt/'\n",
        "mutant_folder = '/content/drive/MyDrive/'+dataset+'/mutant/'\n",
        "\n",
        "\n",
        "for category in CATEGORIES:\n",
        "  path = os.path.join(DATADIR,category)\n",
        "  for img in os.listdir(path):\n",
        "    print(img)\n",
        "    # img_array = cv2.imread(os.path.join(path,img), cv2.IMREAD_ANYCOLOR)\n",
        "    img_array = mpimg.imread(os.path.join(path,img))\n",
        "    # img_array = cv2.imread(os.path.join(path,img), cv2.IMREAD_ANYDEPTH)\n",
        "    # img_array2 = img_array.astype(np.uint8)\n",
        "    # plt.subplot(121)\n",
        "    plt.imshow(img_array,cmap =\"gray\")\n",
        "    # plt.subplot(122)\n",
        "    # plt.imshow(img_array2,cmap =\"gray\")\n",
        "    plt.show()\n",
        "    # print(img_array.dtype)\n",
        "    break\n",
        "  break\n",
        "\n"
      ],
      "metadata": {
        "id": "_E5DU0XlpgyW",
        "colab": {
          "base_uri": "https://localhost:8080/",
          "height": 451
        },
        "outputId": "85a4a0d1-b23b-4bff-82f7-afbc03e8c475"
      },
      "execution_count": null,
      "outputs": [
        {
          "output_type": "stream",
          "name": "stdout",
          "text": [
            "180823_7_R3D_PRJ-1_centered_0_div_0_z_5.tif\n"
          ]
        },
        {
          "output_type": "display_data",
          "data": {
            "text/plain": [
              "<Figure size 640x480 with 1 Axes>"
            ],
            "image/png": "[encoded data removed]"
          },
          "metadata": {}
        }
      ]
    },
    {
      "cell_type": "code",
      "source": [
        "#Se crean los datos que van a ser utilizados y se hace el resize y normalización para cada una de las imágenes\n",
        "\n",
        "data_pred = []\n",
        "\n",
        "def create_data_pred():\n",
        "  for category in CATEGORIES:\n",
        "    path = os.path.join(DATADIR,category)\n",
        "    class_num = CATEGORIES.index(category)\n",
        "    for img in os.listdir(path):\n",
        "      try:\n",
        "        # img_array = cv2.imread(os.path.join(path,img), cv2.IMREAD_ANYDEPTH)\n",
        "        # img_array = img_array.astype(np.uint8)\n",
        "        img_array = mpimg.imread(os.path.join(path,img))\n",
        "        new_array = cv2.resize(img_array, (IMG_SIZE,IMG_SIZE))\n",
        "\n",
        "        # Normalization\n",
        "        v_min = np.min(new_array)\n",
        "        v_max = np.max(new_array)\n",
        "        # print(\"Min. and max. values before normalization are {} and {}.\".format(v_min, v_max))\n",
        "\n",
        "        new_array_norm = (new_array - v_min) / (v_max - v_min)\n",
        "        # print(\"Min. and max. values after normalization are {} and {}.\".format(np.min(new_array_norm), np.max(new_array_norm)))\n",
        "        data_pred.append([(new_array_norm), class_num])\n",
        "\n",
        "      except Exception as e:\n",
        "        pass\n",
        "create_data_pred()\n",
        "\n",
        "\n"
      ],
      "metadata": {
        "id": "kjh6Xu_ipgyW",
        "colab": {
          "base_uri": "https://localhost:8080/"
        },
        "outputId": "fb775c0b-ec03-4e17-e958-fa9931d10cfb"
      },
      "execution_count": null,
      "outputs": [
        {
          "output_type": "stream",
          "name": "stderr",
          "text": [
            "<ipython-input-13-9f971ec47bc8>:21: RuntimeWarning: invalid value encountered in divide\n",
            "  new_array_norm = (new_array - v_min) / (v_max - v_min)\n"
          ]
        }
      ]
    },
    {
      "cell_type": "code",
      "source": [
        "# Resize a tamaño 64x64\n",
        "IMG_SIZE = 64\n",
        "\n",
        "new_array = cv2.resize(img_array, (IMG_SIZE,IMG_SIZE))\n",
        "\n",
        "#Se muestra una imagen con la nueva resolución como ejemplo:\n",
        "plt.imshow(new_array,cmap ='gray')\n",
        "\n",
        "# normalización min max:\n",
        "\n",
        "v_min = np.min(new_array)\n",
        "v_max = np.max(new_array)\n",
        "print(\"Min. and max. values before normalization are {} and {}.\".format(v_min, v_max))\n",
        "\n",
        "# Normalization\n",
        "\n",
        "new_array_norm = (new_array - v_min) / (v_max - v_min)\n",
        "print(\"Min. and max. values after normalization are {} and {}.\".format(np.min(new_array_norm), np.max(new_array_norm)))"
      ],
      "metadata": {
        "id": "a1X3b55FWHYR",
        "colab": {
          "base_uri": "https://localhost:8080/",
          "height": 468
        },
        "outputId": "afd5a7d9-9d1c-42fc-c00c-5a3ec04c7227"
      },
      "execution_count": null,
      "outputs": [
        {
          "output_type": "stream",
          "name": "stdout",
          "text": [
            "Min. and max. values before normalization are 0 and 131.\n",
            "Min. and max. values after normalization are 0.0 and 1.0.\n"
          ]
        },
        {
          "output_type": "display_data",
          "data": {
            "text/plain": [
              "<Figure size 640x480 with 1 Axes>"
            ],
            "image/png": "[encoded data removed]"
          },
          "metadata": {}
        }
      ]
    },
    {
      "cell_type": "code",
      "source": [
        "\n",
        "X_pred = []\n",
        "y_pred = []\n",
        "\n",
        "for features, label in data_pred:\n",
        "  X_pred.append(features)\n",
        "  y_pred.append(label)\n",
        "X_pred = np.array(X_pred).reshape(-1, IMG_SIZE, IMG_SIZE,1)\n",
        "\n",
        "X_pred = np.array(X_pred)\n",
        "y_pred = np.array(y_pred)"
      ],
      "metadata": {
        "id": "3slT3kcntwAq"
      },
      "execution_count": null,
      "outputs": []
    },
    {
      "cell_type": "code",
      "source": [
        "##### para VGG16\n",
        "X_pred = np.dstack([X_pred]*3)\n",
        "#y_pred = np.dstack([y_pred ]*3)\n",
        "\n",
        "X_pred = X_pred.reshape(-1, 64,64,3)\n",
        "#y_pred= y_pred.reshape (-1,64,64,3)\n",
        "\n"
      ],
      "metadata": {
        "id": "odgCwuCDHwLI"
      },
      "execution_count": null,
      "outputs": []
    },
    {
      "cell_type": "code",
      "source": [
        "print(np.array(y_pred))\n",
        "len(y_pred)\n"
      ],
      "metadata": {
        "colab": {
          "base_uri": "https://localhost:8080/"
        },
        "id": "oL18I5XjtU5Y",
        "outputId": "7a41d18a-2f35-4d20-d848-dd275011bcc9"
      },
      "execution_count": null,
      "outputs": [
        {
          "output_type": "stream",
          "name": "stdout",
          "text": [
            "[0 0 0 ... 0 0 0]\n"
          ]
        },
        {
          "output_type": "execute_result",
          "data": {
            "text/plain": [
              "2149"
            ]
          },
          "metadata": {},
          "execution_count": 16
        }
      ]
    },
    {
      "cell_type": "code",
      "source": [
        "import numpy as np\n",
        "from keras.models import load_model\n",
        "\n",
        "# Load the trained model (either the entire model or just the weights)\n",
        "# Replace 'path/to/saved/model.h5' with the correct path to your saved model\n",
        "\n",
        "#model = load_model('/content/drive/MyDrive/weights_model/epoch_200/model.h5')\n",
        "#model = load_model('/content/drive/MyDrive/weights_model/BATCH_COHESINAS/epoch_103/model.h5')\n",
        "#model = load_model('/content/drive/MyDrive/weights_model/BATCH_MODELO_1/epoch_250/model.h5')\n",
        "#model = load_model('/content/drive/MyDrive/weights_model/BATCH_DEF_1/epoch_45/model.h5')\n",
        "#model = load_model('/content/drive/MyDrive/weights_model/BATCH_DEF_2/epoch_55/model.h5')\n",
        "#model = load_model('/content/drive/MyDrive/weights_model/BATCH_DEF_3_ROT/epoch_294/model.h5')\n",
        "#model = load_model('/content/drive/MyDrive/weights_model/BATCH_DEF_4_ROT/epoch_600/model.h5')\n",
        "#model = load_model('/content/drive/MyDrive/weights_model/BATCH_DEF5/epoch_70/model.h5')\n",
        "#model = load_model('/content/drive/MyDrive/weights_model/BATCH_DEF_6_PAPER/epoch_53/model.h5')\n",
        "#model = load_model('/content/drive/MyDrive/weights_model/BATCH_DEF_6_VGG16/epoch_50/model.h5')\n",
        "#model = load_model('/content/drive/MyDrive/weights_model/BATCH_DEF_6_PAPER_VERSION2/epoch_53/model.h5')\n",
        "model = load_model('/content/drive/MyDrive/weights_model/BATCH_DEF_6_PAPER_MARZO/epoch_78/model.h5')\n",
        "\n",
        "\n",
        "# Preprocess new data (replace this with your actual preprocessing steps)\n",
        "# Assuming 'new_data' is your new data in an appropriate format\n",
        "# You should preprocess 'new_data' to match the preprocessing applied to the training data\n",
        "preprocessed_data = X_pred\n",
        "\n",
        "# Use the model to predict on the preprocessed data\n",
        "predictions = model.predict(preprocessed_data)\n",
        "\n",
        "# 'predictions' will contain the model's predictions for the new data\n",
        "#print('Predictions:', predictions)\n",
        "\n",
        "# Threshold for classification\n",
        "threshold = 0.5\n",
        "\n",
        "# Convert probabilities to binary predictions based on the threshold\n",
        "binary_predictions = (predictions >= threshold).astype(int)\n",
        "\n",
        "# Print the original probabilities and the binary predictions\n",
        "#for i in range(len(predictions)):\n",
        "#    print(f\"Prediction: {predictions[i][0]:.4f} -> Binary prediction: {binary_predictions[i][0]}\")\n",
        "\n",
        "\n",
        "# Calculate the count of each label (0 and 1)\n",
        "count_label_0 = np.sum(binary_predictions == 0)\n",
        "count_label_1 = np.sum(binary_predictions == 1)\n",
        "\n",
        "# Calculate the percentage of each label\n",
        "total_samples = len(binary_predictions)\n",
        "percent_label_0 = (count_label_0 / total_samples) * 100\n",
        "percent_label_1 = (count_label_1 / total_samples) * 100\n",
        "\n",
        "# Print the percentages\n",
        "print(f\"Percentage of Label 0: {percent_label_0:.2f}%\")\n",
        "print(f\"Percentage of Label 1: {percent_label_1:.2f}%\")"
      ],
      "metadata": {
        "colab": {
          "base_uri": "https://localhost:8080/"
        },
        "id": "y5N4ZYxymkh4",
        "outputId": "7482c74a-ac03-4124-83a9-218f41316849"
      },
      "execution_count": null,
      "outputs": [
        {
          "output_type": "stream",
          "name": "stderr",
          "text": [
            "/usr/local/lib/python3.11/dist-packages/keras/src/layers/convolutional/base_conv.py:107: UserWarning: Do not pass an `input_shape`/`input_dim` argument to a layer. When using Sequential models, prefer using an `Input(shape)` object as the first layer in the model instead.\n",
            "  super().__init__(activity_regularizer=activity_regularizer, **kwargs)\n",
            "WARNING:absl:Compiled the loaded model, but the compiled metrics have yet to be built. `model.compile_metrics` will be empty until you train or evaluate the model.\n",
            "WARNING:absl:Error in loading the saved optimizer state. As a result, your model is starting with a freshly initialized optimizer.\n"
          ]
        },
        {
          "output_type": "stream",
          "name": "stdout",
          "text": [
            "\u001b[1m68/68\u001b[0m \u001b[32m━━━━━━━━━━━━━━━━━━━━\u001b[0m\u001b[37m\u001b[0m \u001b[1m3s\u001b[0m 11ms/step\n",
            "Percentage of Label 0: 71.38%\n",
            "Percentage of Label 1: 28.62%\n"
          ]
        }
      ]
    },
    {
      "cell_type": "code",
      "source": [
        "model = load_model('/content/drive/MyDrive/weights_model/BATCH_DEF_6_PAPER/epoch_53/model.h5')\n"
      ],
      "metadata": {
        "id": "UbWyDW-u6DqV",
        "colab": {
          "base_uri": "https://localhost:8080/"
        },
        "outputId": "fdb8fbb6-d8ba-44d7-c0f7-919c1a8e1755"
      },
      "execution_count": null,
      "outputs": [
        {
          "output_type": "stream",
          "name": "stderr",
          "text": [
            "WARNING:absl:Compiled the loaded model, but the compiled metrics have yet to be built. `model.compile_metrics` will be empty until you train or evaluate the model.\n",
            "WARNING:absl:Error in loading the saved optimizer state. As a result, your model is starting with a freshly initialized optimizer.\n"
          ]
        }
      ]
    },
    {
      "cell_type": "code",
      "source": [
        "print(\"Mean: \",np.mean(predictions))\n",
        "print(\"Median:\",np.median(predictions))"
      ],
      "metadata": {
        "colab": {
          "base_uri": "https://localhost:8080/"
        },
        "id": "xzarnzmKfbOI",
        "outputId": "8eeac0b0-d7d8-4423-86fc-f58b029c2476"
      },
      "execution_count": null,
      "outputs": [
        {
          "output_type": "stream",
          "name": "stdout",
          "text": [
            "Mean:  0.62194526\n",
            "Median: 0.6614366\n"
          ]
        }
      ]
    },
    {
      "cell_type": "code",
      "source": [
        "mi_array = predictions\n",
        "plt.hist(mi_array, bins=20, color='blue', alpha=0.7)\n",
        "plt.xlabel('Value')\n",
        "plt.ylabel('Frequency')\n",
        "plt.title('Distribution of Values')\n",
        "plt.grid(True)\n",
        "plt.savefig('histogram_figure.pdf', format='pdf', bbox_inches='tight')\n",
        "plt.show()"
      ],
      "metadata": {
        "colab": {
          "base_uri": "https://localhost:8080/",
          "height": 472
        },
        "id": "TLfhwl8dl0zW",
        "outputId": "f9800798-6609-4402-dd5a-3a41a373f252"
      },
      "execution_count": null,
      "outputs": [
        {
          "output_type": "display_data",
          "data": {
            "text/plain": [
              "<Figure size 640x480 with 1 Axes>"
            ],
            "image/png": "[encoded data removed]"
          },
          "metadata": {}
        }
      ]
    },
    {
      "cell_type": "code",
      "source": [
        "import numpy as np\n",
        "from sklearn.metrics import f1_score, precision_score, recall_score, accuracy_score, roc_auc_score\n",
        "\n",
        "# Define a range of threshold values to test\n",
        "thresholds = np.linspace(0, 1, 100)\n",
        "\n",
        "# Evaluate F1-score for each threshold and choose the best one\n",
        "best_f1 = 0\n",
        "best_threshold = 0\n",
        "\n",
        "for threshold in thresholds:\n",
        "    y_predictions = (predictions > threshold).astype(int)\n",
        "    f1 = f1_score(y_pred, y_predictions)\n",
        "\n",
        "    if f1 > best_f1:\n",
        "        best_f1 = f1\n",
        "        best_threshold = threshold\n",
        "\n",
        "print(\"Best F1-score:\", best_f1)\n",
        "print(\"Best Threshold:\", best_threshold)"
      ],
      "metadata": {
        "colab": {
          "base_uri": "https://localhost:8080/"
        },
        "id": "SnCXmiefOWyI",
        "outputId": "5c0f43a9-bac6-4152-ec45-edeb40acd6d1"
      },
      "execution_count": null,
      "outputs": [
        {
          "output_type": "stream",
          "name": "stdout",
          "text": [
            "Best F1-score: 0\n",
            "Best Threshold: 0\n"
          ]
        },
        {
          "output_type": "stream",
          "name": "stderr",
          "text": [
            "/usr/local/lib/python3.10/dist-packages/sklearn/metrics/_classification.py:1565: UndefinedMetricWarning: F-score is ill-defined and being set to 0.0 due to no true nor predicted samples. Use `zero_division` parameter to control this behavior.\n",
            "  _warn_prf(average, modifier, f\"{metric.capitalize()} is\", len(result))\n"
          ]
        }
      ]
    },
    {
      "cell_type": "code",
      "source": [
        "# Define un rango de umbrales para probar\n",
        "thresholds = np.linspace(0, 1, 100)\n",
        "\n",
        "# Inicializa variables para almacenar los mejores valores y umbrales\n",
        "best_accuracy = 0\n",
        "best_auc_roc = 0\n",
        "best_accuracy_threshold = 0\n",
        "best_auc_roc_threshold = 0\n",
        "\n",
        "# Itera sobre los umbrales y calcula las métricas\n",
        "for threshold in thresholds:\n",
        "    # Convierte las probabilidades en predicciones binarias basadas en el umbral\n",
        "    y_predictions = (predictions > threshold).astype(int)\n",
        "\n",
        "    # Calcula las métricas para el umbral actual\n",
        "    accuracy = accuracy_score(y_pred, y_predictions)\n",
        "    auc_roc = roc_auc_score(y_pred, y_predictions)\n",
        "\n",
        "    # Actualiza los mejores valores y umbrales\n",
        "    if accuracy > best_accuracy:\n",
        "        best_accuracy = accuracy\n",
        "        best_accuracy_threshold = threshold\n",
        "\n",
        "    if auc_roc > best_auc_roc:\n",
        "        best_auc_roc = auc_roc\n",
        "        best_auc_roc_threshold = threshold\n",
        "\n",
        "print(\"Best Accuracy:\", best_accuracy)\n",
        "print(\"Best Accuracy Threshold:\", best_accuracy_threshold)\n",
        "\n",
        "print(\"Best AUC-ROC:\", best_auc_roc)\n",
        "print(\"Best AUC-ROC Threshold:\", best_auc_roc_threshold)"
      ],
      "metadata": {
        "colab": {
          "base_uri": "https://localhost:8080/"
        },
        "id": "arQHjH4oTdJz",
        "outputId": "b9bcf74a-eb07-4d9b-faf0-a42f861ca661"
      },
      "execution_count": null,
      "outputs": [
        {
          "output_type": "stream",
          "name": "stdout",
          "text": [
            "Best Accuracy: 1.0\n",
            "Best Accuracy Threshold: 1.0\n",
            "Best AUC-ROC: 0\n",
            "Best AUC-ROC Threshold: 0\n"
          ]
        },
        {
          "output_type": "stream",
          "name": "stderr",
          "text": [
            "/usr/local/lib/python3.10/dist-packages/sklearn/metrics/_ranking.py:375: UndefinedMetricWarning: Only one class is present in y_true. ROC AUC score is not defined in that case.\n",
            "  warnings.warn(\n",
            "/usr/local/lib/python3.10/dist-packages/sklearn/metrics/_ranking.py:375: UndefinedMetricWarning: Only one class is present in y_true. ROC AUC score is not defined in that case.\n",
            "  warnings.warn(\n",
            "/usr/local/lib/python3.10/dist-packages/sklearn/metrics/_ranking.py:375: UndefinedMetricWarning: Only one class is present in y_true. ROC AUC score is not defined in that case.\n",
            "  warnings.warn(\n",
            "/usr/local/lib/python3.10/dist-packages/sklearn/metrics/_ranking.py:375: UndefinedMetricWarning: Only one class is present in y_true. ROC AUC score is not defined in that case.\n",
            "  warnings.warn(\n",
            "/usr/local/lib/python3.10/dist-packages/sklearn/metrics/_ranking.py:375: UndefinedMetricWarning: Only one class is present in y_true. ROC AUC score is not defined in that case.\n",
            "  warnings.warn(\n",
            "/usr/local/lib/python3.10/dist-packages/sklearn/metrics/_ranking.py:375: UndefinedMetricWarning: Only one class is present in y_true. ROC AUC score is not defined in that case.\n",
            "  warnings.warn(\n",
            "/usr/local/lib/python3.10/dist-packages/sklearn/metrics/_ranking.py:375: UndefinedMetricWarning: Only one class is present in y_true. ROC AUC score is not defined in that case.\n",
            "  warnings.warn(\n",
            "/usr/local/lib/python3.10/dist-packages/sklearn/metrics/_ranking.py:375: UndefinedMetricWarning: Only one class is present in y_true. ROC AUC score is not defined in that case.\n",
            "  warnings.warn(\n",
            "/usr/local/lib/python3.10/dist-packages/sklearn/metrics/_ranking.py:375: UndefinedMetricWarning: Only one class is present in y_true. ROC AUC score is not defined in that case.\n",
            "  warnings.warn(\n",
            "/usr/local/lib/python3.10/dist-packages/sklearn/metrics/_ranking.py:375: UndefinedMetricWarning: Only one class is present in y_true. ROC AUC score is not defined in that case.\n",
            "  warnings.warn(\n",
            "/usr/local/lib/python3.10/dist-packages/sklearn/metrics/_ranking.py:375: UndefinedMetricWarning: Only one class is present in y_true. ROC AUC score is not defined in that case.\n",
            "  warnings.warn(\n",
            "/usr/local/lib/python3.10/dist-packages/sklearn/metrics/_ranking.py:375: UndefinedMetricWarning: Only one class is present in y_true. ROC AUC score is not defined in that case.\n",
            "  warnings.warn(\n",
            "/usr/local/lib/python3.10/dist-packages/sklearn/metrics/_ranking.py:375: UndefinedMetricWarning: Only one class is present in y_true. ROC AUC score is not defined in that case.\n",
            "  warnings.warn(\n",
            "/usr/local/lib/python3.10/dist-packages/sklearn/metrics/_ranking.py:375: UndefinedMetricWarning: Only one class is present in y_true. ROC AUC score is not defined in that case.\n",
            "  warnings.warn(\n",
            "/usr/local/lib/python3.10/dist-packages/sklearn/metrics/_ranking.py:375: UndefinedMetricWarning: Only one class is present in y_true. ROC AUC score is not defined in that case.\n",
            "  warnings.warn(\n",
            "/usr/local/lib/python3.10/dist-packages/sklearn/metrics/_ranking.py:375: UndefinedMetricWarning: Only one class is present in y_true. ROC AUC score is not defined in that case.\n",
            "  warnings.warn(\n",
            "/usr/local/lib/python3.10/dist-packages/sklearn/metrics/_ranking.py:375: UndefinedMetricWarning: Only one class is present in y_true. ROC AUC score is not defined in that case.\n",
            "  warnings.warn(\n",
            "/usr/local/lib/python3.10/dist-packages/sklearn/metrics/_ranking.py:375: UndefinedMetricWarning: Only one class is present in y_true. ROC AUC score is not defined in that case.\n",
            "  warnings.warn(\n",
            "/usr/local/lib/python3.10/dist-packages/sklearn/metrics/_ranking.py:375: UndefinedMetricWarning: Only one class is present in y_true. ROC AUC score is not defined in that case.\n",
            "  warnings.warn(\n",
            "/usr/local/lib/python3.10/dist-packages/sklearn/metrics/_ranking.py:375: UndefinedMetricWarning: Only one class is present in y_true. ROC AUC score is not defined in that case.\n",
            "  warnings.warn(\n",
            "/usr/local/lib/python3.10/dist-packages/sklearn/metrics/_ranking.py:375: UndefinedMetricWarning: Only one class is present in y_true. ROC AUC score is not defined in that case.\n",
            "  warnings.warn(\n",
            "/usr/local/lib/python3.10/dist-packages/sklearn/metrics/_ranking.py:375: UndefinedMetricWarning: Only one class is present in y_true. ROC AUC score is not defined in that case.\n",
            "  warnings.warn(\n",
            "/usr/local/lib/python3.10/dist-packages/sklearn/metrics/_ranking.py:375: UndefinedMetricWarning: Only one class is present in y_true. ROC AUC score is not defined in that case.\n",
            "  warnings.warn(\n",
            "/usr/local/lib/python3.10/dist-packages/sklearn/metrics/_ranking.py:375: UndefinedMetricWarning: Only one class is present in y_true. ROC AUC score is not defined in that case.\n",
            "  warnings.warn(\n",
            "/usr/local/lib/python3.10/dist-packages/sklearn/metrics/_ranking.py:375: UndefinedMetricWarning: Only one class is present in y_true. ROC AUC score is not defined in that case.\n",
            "  warnings.warn(\n",
            "/usr/local/lib/python3.10/dist-packages/sklearn/metrics/_ranking.py:375: UndefinedMetricWarning: Only one class is present in y_true. ROC AUC score is not defined in that case.\n",
            "  warnings.warn(\n",
            "/usr/local/lib/python3.10/dist-packages/sklearn/metrics/_ranking.py:375: UndefinedMetricWarning: Only one class is present in y_true. ROC AUC score is not defined in that case.\n",
            "  warnings.warn(\n",
            "/usr/local/lib/python3.10/dist-packages/sklearn/metrics/_ranking.py:375: UndefinedMetricWarning: Only one class is present in y_true. ROC AUC score is not defined in that case.\n",
            "  warnings.warn(\n",
            "/usr/local/lib/python3.10/dist-packages/sklearn/metrics/_ranking.py:375: UndefinedMetricWarning: Only one class is present in y_true. ROC AUC score is not defined in that case.\n",
            "  warnings.warn(\n",
            "/usr/local/lib/python3.10/dist-packages/sklearn/metrics/_ranking.py:375: UndefinedMetricWarning: Only one class is present in y_true. ROC AUC score is not defined in that case.\n",
            "  warnings.warn(\n",
            "/usr/local/lib/python3.10/dist-packages/sklearn/metrics/_ranking.py:375: UndefinedMetricWarning: Only one class is present in y_true. ROC AUC score is not defined in that case.\n",
            "  warnings.warn(\n",
            "/usr/local/lib/python3.10/dist-packages/sklearn/metrics/_ranking.py:375: UndefinedMetricWarning: Only one class is present in y_true. ROC AUC score is not defined in that case.\n",
            "  warnings.warn(\n",
            "/usr/local/lib/python3.10/dist-packages/sklearn/metrics/_ranking.py:375: UndefinedMetricWarning: Only one class is present in y_true. ROC AUC score is not defined in that case.\n",
            "  warnings.warn(\n",
            "/usr/local/lib/python3.10/dist-packages/sklearn/metrics/_ranking.py:375: UndefinedMetricWarning: Only one class is present in y_true. ROC AUC score is not defined in that case.\n",
            "  warnings.warn(\n",
            "/usr/local/lib/python3.10/dist-packages/sklearn/metrics/_ranking.py:375: UndefinedMetricWarning: Only one class is present in y_true. ROC AUC score is not defined in that case.\n",
            "  warnings.warn(\n",
            "/usr/local/lib/python3.10/dist-packages/sklearn/metrics/_ranking.py:375: UndefinedMetricWarning: Only one class is present in y_true. ROC AUC score is not defined in that case.\n",
            "  warnings.warn(\n",
            "/usr/local/lib/python3.10/dist-packages/sklearn/metrics/_ranking.py:375: UndefinedMetricWarning: Only one class is present in y_true. ROC AUC score is not defined in that case.\n",
            "  warnings.warn(\n",
            "/usr/local/lib/python3.10/dist-packages/sklearn/metrics/_ranking.py:375: UndefinedMetricWarning: Only one class is present in y_true. ROC AUC score is not defined in that case.\n",
            "  warnings.warn(\n",
            "/usr/local/lib/python3.10/dist-packages/sklearn/metrics/_ranking.py:375: UndefinedMetricWarning: Only one class is present in y_true. ROC AUC score is not defined in that case.\n",
            "  warnings.warn(\n",
            "/usr/local/lib/python3.10/dist-packages/sklearn/metrics/_ranking.py:375: UndefinedMetricWarning: Only one class is present in y_true. ROC AUC score is not defined in that case.\n",
            "  warnings.warn(\n",
            "/usr/local/lib/python3.10/dist-packages/sklearn/metrics/_ranking.py:375: UndefinedMetricWarning: Only one class is present in y_true. ROC AUC score is not defined in that case.\n",
            "  warnings.warn(\n",
            "/usr/local/lib/python3.10/dist-packages/sklearn/metrics/_ranking.py:375: UndefinedMetricWarning: Only one class is present in y_true. ROC AUC score is not defined in that case.\n",
            "  warnings.warn(\n",
            "/usr/local/lib/python3.10/dist-packages/sklearn/metrics/_ranking.py:375: UndefinedMetricWarning: Only one class is present in y_true. ROC AUC score is not defined in that case.\n",
            "  warnings.warn(\n",
            "/usr/local/lib/python3.10/dist-packages/sklearn/metrics/_ranking.py:375: UndefinedMetricWarning: Only one class is present in y_true. ROC AUC score is not defined in that case.\n",
            "  warnings.warn(\n",
            "/usr/local/lib/python3.10/dist-packages/sklearn/metrics/_ranking.py:375: UndefinedMetricWarning: Only one class is present in y_true. ROC AUC score is not defined in that case.\n",
            "  warnings.warn(\n",
            "/usr/local/lib/python3.10/dist-packages/sklearn/metrics/_ranking.py:375: UndefinedMetricWarning: Only one class is present in y_true. ROC AUC score is not defined in that case.\n",
            "  warnings.warn(\n",
            "/usr/local/lib/python3.10/dist-packages/sklearn/metrics/_ranking.py:375: UndefinedMetricWarning: Only one class is present in y_true. ROC AUC score is not defined in that case.\n",
            "  warnings.warn(\n",
            "/usr/local/lib/python3.10/dist-packages/sklearn/metrics/_ranking.py:375: UndefinedMetricWarning: Only one class is present in y_true. ROC AUC score is not defined in that case.\n",
            "  warnings.warn(\n",
            "/usr/local/lib/python3.10/dist-packages/sklearn/metrics/_ranking.py:375: UndefinedMetricWarning: Only one class is present in y_true. ROC AUC score is not defined in that case.\n",
            "  warnings.warn(\n",
            "/usr/local/lib/python3.10/dist-packages/sklearn/metrics/_ranking.py:375: UndefinedMetricWarning: Only one class is present in y_true. ROC AUC score is not defined in that case.\n",
            "  warnings.warn(\n",
            "/usr/local/lib/python3.10/dist-packages/sklearn/metrics/_ranking.py:375: UndefinedMetricWarning: Only one class is present in y_true. ROC AUC score is not defined in that case.\n",
            "  warnings.warn(\n",
            "/usr/local/lib/python3.10/dist-packages/sklearn/metrics/_ranking.py:375: UndefinedMetricWarning: Only one class is present in y_true. ROC AUC score is not defined in that case.\n",
            "  warnings.warn(\n",
            "/usr/local/lib/python3.10/dist-packages/sklearn/metrics/_ranking.py:375: UndefinedMetricWarning: Only one class is present in y_true. ROC AUC score is not defined in that case.\n",
            "  warnings.warn(\n",
            "/usr/local/lib/python3.10/dist-packages/sklearn/metrics/_ranking.py:375: UndefinedMetricWarning: Only one class is present in y_true. ROC AUC score is not defined in that case.\n",
            "  warnings.warn(\n",
            "/usr/local/lib/python3.10/dist-packages/sklearn/metrics/_ranking.py:375: UndefinedMetricWarning: Only one class is present in y_true. ROC AUC score is not defined in that case.\n",
            "  warnings.warn(\n",
            "/usr/local/lib/python3.10/dist-packages/sklearn/metrics/_ranking.py:375: UndefinedMetricWarning: Only one class is present in y_true. ROC AUC score is not defined in that case.\n",
            "  warnings.warn(\n",
            "/usr/local/lib/python3.10/dist-packages/sklearn/metrics/_ranking.py:375: UndefinedMetricWarning: Only one class is present in y_true. ROC AUC score is not defined in that case.\n",
            "  warnings.warn(\n",
            "/usr/local/lib/python3.10/dist-packages/sklearn/metrics/_ranking.py:375: UndefinedMetricWarning: Only one class is present in y_true. ROC AUC score is not defined in that case.\n",
            "  warnings.warn(\n",
            "/usr/local/lib/python3.10/dist-packages/sklearn/metrics/_ranking.py:375: UndefinedMetricWarning: Only one class is present in y_true. ROC AUC score is not defined in that case.\n",
            "  warnings.warn(\n",
            "/usr/local/lib/python3.10/dist-packages/sklearn/metrics/_ranking.py:375: UndefinedMetricWarning: Only one class is present in y_true. ROC AUC score is not defined in that case.\n",
            "  warnings.warn(\n",
            "/usr/local/lib/python3.10/dist-packages/sklearn/metrics/_ranking.py:375: UndefinedMetricWarning: Only one class is present in y_true. ROC AUC score is not defined in that case.\n",
            "  warnings.warn(\n",
            "/usr/local/lib/python3.10/dist-packages/sklearn/metrics/_ranking.py:375: UndefinedMetricWarning: Only one class is present in y_true. ROC AUC score is not defined in that case.\n",
            "  warnings.warn(\n",
            "/usr/local/lib/python3.10/dist-packages/sklearn/metrics/_ranking.py:375: UndefinedMetricWarning: Only one class is present in y_true. ROC AUC score is not defined in that case.\n",
            "  warnings.warn(\n",
            "/usr/local/lib/python3.10/dist-packages/sklearn/metrics/_ranking.py:375: UndefinedMetricWarning: Only one class is present in y_true. ROC AUC score is not defined in that case.\n",
            "  warnings.warn(\n",
            "/usr/local/lib/python3.10/dist-packages/sklearn/metrics/_ranking.py:375: UndefinedMetricWarning: Only one class is present in y_true. ROC AUC score is not defined in that case.\n",
            "  warnings.warn(\n",
            "/usr/local/lib/python3.10/dist-packages/sklearn/metrics/_ranking.py:375: UndefinedMetricWarning: Only one class is present in y_true. ROC AUC score is not defined in that case.\n",
            "  warnings.warn(\n",
            "/usr/local/lib/python3.10/dist-packages/sklearn/metrics/_ranking.py:375: UndefinedMetricWarning: Only one class is present in y_true. ROC AUC score is not defined in that case.\n",
            "  warnings.warn(\n",
            "/usr/local/lib/python3.10/dist-packages/sklearn/metrics/_ranking.py:375: UndefinedMetricWarning: Only one class is present in y_true. ROC AUC score is not defined in that case.\n",
            "  warnings.warn(\n",
            "/usr/local/lib/python3.10/dist-packages/sklearn/metrics/_ranking.py:375: UndefinedMetricWarning: Only one class is present in y_true. ROC AUC score is not defined in that case.\n",
            "  warnings.warn(\n",
            "/usr/local/lib/python3.10/dist-packages/sklearn/metrics/_ranking.py:375: UndefinedMetricWarning: Only one class is present in y_true. ROC AUC score is not defined in that case.\n",
            "  warnings.warn(\n",
            "/usr/local/lib/python3.10/dist-packages/sklearn/metrics/_ranking.py:375: UndefinedMetricWarning: Only one class is present in y_true. ROC AUC score is not defined in that case.\n",
            "  warnings.warn(\n",
            "/usr/local/lib/python3.10/dist-packages/sklearn/metrics/_ranking.py:375: UndefinedMetricWarning: Only one class is present in y_true. ROC AUC score is not defined in that case.\n",
            "  warnings.warn(\n",
            "/usr/local/lib/python3.10/dist-packages/sklearn/metrics/_ranking.py:375: UndefinedMetricWarning: Only one class is present in y_true. ROC AUC score is not defined in that case.\n",
            "  warnings.warn(\n",
            "/usr/local/lib/python3.10/dist-packages/sklearn/metrics/_ranking.py:375: UndefinedMetricWarning: Only one class is present in y_true. ROC AUC score is not defined in that case.\n",
            "  warnings.warn(\n",
            "/usr/local/lib/python3.10/dist-packages/sklearn/metrics/_ranking.py:375: UndefinedMetricWarning: Only one class is present in y_true. ROC AUC score is not defined in that case.\n",
            "  warnings.warn(\n",
            "/usr/local/lib/python3.10/dist-packages/sklearn/metrics/_ranking.py:375: UndefinedMetricWarning: Only one class is present in y_true. ROC AUC score is not defined in that case.\n",
            "  warnings.warn(\n",
            "/usr/local/lib/python3.10/dist-packages/sklearn/metrics/_ranking.py:375: UndefinedMetricWarning: Only one class is present in y_true. ROC AUC score is not defined in that case.\n",
            "  warnings.warn(\n",
            "/usr/local/lib/python3.10/dist-packages/sklearn/metrics/_ranking.py:375: UndefinedMetricWarning: Only one class is present in y_true. ROC AUC score is not defined in that case.\n",
            "  warnings.warn(\n",
            "/usr/local/lib/python3.10/dist-packages/sklearn/metrics/_ranking.py:375: UndefinedMetricWarning: Only one class is present in y_true. ROC AUC score is not defined in that case.\n",
            "  warnings.warn(\n",
            "/usr/local/lib/python3.10/dist-packages/sklearn/metrics/_ranking.py:375: UndefinedMetricWarning: Only one class is present in y_true. ROC AUC score is not defined in that case.\n",
            "  warnings.warn(\n",
            "/usr/local/lib/python3.10/dist-packages/sklearn/metrics/_ranking.py:375: UndefinedMetricWarning: Only one class is present in y_true. ROC AUC score is not defined in that case.\n",
            "  warnings.warn(\n",
            "/usr/local/lib/python3.10/dist-packages/sklearn/metrics/_ranking.py:375: UndefinedMetricWarning: Only one class is present in y_true. ROC AUC score is not defined in that case.\n",
            "  warnings.warn(\n",
            "/usr/local/lib/python3.10/dist-packages/sklearn/metrics/_ranking.py:375: UndefinedMetricWarning: Only one class is present in y_true. ROC AUC score is not defined in that case.\n",
            "  warnings.warn(\n",
            "/usr/local/lib/python3.10/dist-packages/sklearn/metrics/_ranking.py:375: UndefinedMetricWarning: Only one class is present in y_true. ROC AUC score is not defined in that case.\n",
            "  warnings.warn(\n",
            "/usr/local/lib/python3.10/dist-packages/sklearn/metrics/_ranking.py:375: UndefinedMetricWarning: Only one class is present in y_true. ROC AUC score is not defined in that case.\n",
            "  warnings.warn(\n",
            "/usr/local/lib/python3.10/dist-packages/sklearn/metrics/_ranking.py:375: UndefinedMetricWarning: Only one class is present in y_true. ROC AUC score is not defined in that case.\n",
            "  warnings.warn(\n",
            "/usr/local/lib/python3.10/dist-packages/sklearn/metrics/_ranking.py:375: UndefinedMetricWarning: Only one class is present in y_true. ROC AUC score is not defined in that case.\n",
            "  warnings.warn(\n",
            "/usr/local/lib/python3.10/dist-packages/sklearn/metrics/_ranking.py:375: UndefinedMetricWarning: Only one class is present in y_true. ROC AUC score is not defined in that case.\n",
            "  warnings.warn(\n",
            "/usr/local/lib/python3.10/dist-packages/sklearn/metrics/_ranking.py:375: UndefinedMetricWarning: Only one class is present in y_true. ROC AUC score is not defined in that case.\n",
            "  warnings.warn(\n",
            "/usr/local/lib/python3.10/dist-packages/sklearn/metrics/_ranking.py:375: UndefinedMetricWarning: Only one class is present in y_true. ROC AUC score is not defined in that case.\n",
            "  warnings.warn(\n",
            "/usr/local/lib/python3.10/dist-packages/sklearn/metrics/_ranking.py:375: UndefinedMetricWarning: Only one class is present in y_true. ROC AUC score is not defined in that case.\n",
            "  warnings.warn(\n",
            "/usr/local/lib/python3.10/dist-packages/sklearn/metrics/_ranking.py:375: UndefinedMetricWarning: Only one class is present in y_true. ROC AUC score is not defined in that case.\n",
            "  warnings.warn(\n",
            "/usr/local/lib/python3.10/dist-packages/sklearn/metrics/_ranking.py:375: UndefinedMetricWarning: Only one class is present in y_true. ROC AUC score is not defined in that case.\n",
            "  warnings.warn(\n",
            "/usr/local/lib/python3.10/dist-packages/sklearn/metrics/_ranking.py:375: UndefinedMetricWarning: Only one class is present in y_true. ROC AUC score is not defined in that case.\n",
            "  warnings.warn(\n",
            "/usr/local/lib/python3.10/dist-packages/sklearn/metrics/_ranking.py:375: UndefinedMetricWarning: Only one class is present in y_true. ROC AUC score is not defined in that case.\n",
            "  warnings.warn(\n",
            "/usr/local/lib/python3.10/dist-packages/sklearn/metrics/_ranking.py:375: UndefinedMetricWarning: Only one class is present in y_true. ROC AUC score is not defined in that case.\n",
            "  warnings.warn(\n",
            "/usr/local/lib/python3.10/dist-packages/sklearn/metrics/_ranking.py:375: UndefinedMetricWarning: Only one class is present in y_true. ROC AUC score is not defined in that case.\n",
            "  warnings.warn(\n",
            "/usr/local/lib/python3.10/dist-packages/sklearn/metrics/_ranking.py:375: UndefinedMetricWarning: Only one class is present in y_true. ROC AUC score is not defined in that case.\n",
            "  warnings.warn(\n",
            "/usr/local/lib/python3.10/dist-packages/sklearn/metrics/_ranking.py:375: UndefinedMetricWarning: Only one class is present in y_true. ROC AUC score is not defined in that case.\n",
            "  warnings.warn(\n",
            "/usr/local/lib/python3.10/dist-packages/sklearn/metrics/_ranking.py:375: UndefinedMetricWarning: Only one class is present in y_true. ROC AUC score is not defined in that case.\n",
            "  warnings.warn(\n"
          ]
        }
      ]
    },
    {
      "cell_type": "code",
      "source": [
        "!pip install sklearn_evaluation"
      ],
      "metadata": {
        "id": "NUlzvYZ4HVzt"
      },
      "execution_count": null,
      "outputs": []
    },
    {
      "cell_type": "code",
      "source": [
        "y_pred_keras4 = model.predict(X_pred).ravel()\n",
        "\n",
        "fpr_keras4, tpr_keras4, thresholds_keras4 = roc_curve(y_pred, y_pred_keras4)\n",
        "\n",
        "auc_keras4 = auc(fpr_keras4, tpr_keras4)\n",
        "\n",
        "\n",
        "plt.figure(1)\n",
        "plt.plot([0, 1], [0, 1], 'k--')\n",
        "plt.plot(fpr_keras4, tpr_keras4, label='Keras4 (area = {:.3f})'.format(auc_keras4))\n",
        "\n",
        "plt.xlabel('False positive rate')\n",
        "plt.ylabel('True positive rate')\n",
        "plt.title('ROC curve')\n",
        "plt.legend(loc='best')\n",
        "\n",
        "plt.savefig('ROC_curve.pdf', format='pdf', bbox_inches='tight')\n",
        "\n",
        "plt.show()\n"
      ],
      "metadata": {
        "colab": {
          "base_uri": "https://localhost:8080/",
          "height": 216
        },
        "id": "PSeDgtwL9tyW",
        "outputId": "1c9704cb-781e-4913-c73b-d2d5b6876e59"
      },
      "execution_count": null,
      "outputs": [
        {
          "output_type": "error",
          "ename": "NameError",
          "evalue": "name 'model' is not defined",
          "traceback": [
            "\u001b[0;31m---------------------------------------------------------------------------\u001b[0m",
            "\u001b[0;31mNameError\u001b[0m                                 Traceback (most recent call last)",
            "\u001b[0;32m<ipython-input-1-4cfd63093c49>\u001b[0m in \u001b[0;36m<cell line: 1>\u001b[0;34m()\u001b[0m\n\u001b[0;32m----> 1\u001b[0;31m \u001b[0my_pred_keras4\u001b[0m \u001b[0;34m=\u001b[0m \u001b[0mmodel\u001b[0m\u001b[0;34m.\u001b[0m\u001b[0mpredict\u001b[0m\u001b[0;34m(\u001b[0m\u001b[0mX_pred\u001b[0m\u001b[0;34m)\u001b[0m\u001b[0;34m.\u001b[0m\u001b[0mravel\u001b[0m\u001b[0;34m(\u001b[0m\u001b[0;34m)\u001b[0m\u001b[0;34m\u001b[0m\u001b[0;34m\u001b[0m\u001b[0m\n\u001b[0m\u001b[1;32m      2\u001b[0m \u001b[0;34m\u001b[0m\u001b[0m\n\u001b[1;32m      3\u001b[0m \u001b[0mfpr_keras4\u001b[0m\u001b[0;34m,\u001b[0m \u001b[0mtpr_keras4\u001b[0m\u001b[0;34m,\u001b[0m \u001b[0mthresholds_keras4\u001b[0m \u001b[0;34m=\u001b[0m \u001b[0mroc_curve\u001b[0m\u001b[0;34m(\u001b[0m\u001b[0my_pred\u001b[0m\u001b[0;34m,\u001b[0m \u001b[0my_pred_keras4\u001b[0m\u001b[0;34m)\u001b[0m\u001b[0;34m\u001b[0m\u001b[0;34m\u001b[0m\u001b[0m\n\u001b[1;32m      4\u001b[0m \u001b[0;34m\u001b[0m\u001b[0m\n\u001b[1;32m      5\u001b[0m \u001b[0mauc_keras4\u001b[0m \u001b[0;34m=\u001b[0m \u001b[0mauc\u001b[0m\u001b[0;34m(\u001b[0m\u001b[0mfpr_keras4\u001b[0m\u001b[0;34m,\u001b[0m \u001b[0mtpr_keras4\u001b[0m\u001b[0;34m)\u001b[0m\u001b[0;34m\u001b[0m\u001b[0;34m\u001b[0m\u001b[0m\n",
            "\u001b[0;31mNameError\u001b[0m: name 'model' is not defined"
          ]
        }
      ]
    },
    {
      "cell_type": "code",
      "source": [
        "from sklearn.metrics import roc_auc_score\n",
        "\n",
        "# Calcular el AUC solo para la clase positiva\n",
        "roc_auc = roc_auc_score(y_pred, model.predict(X_pred).ravel())\n",
        "\n",
        "# Imprimir el AUC\n",
        "print(\"AUC:\", roc_auc)\n",
        "\n",
        "\n"
      ],
      "metadata": {
        "colab": {
          "base_uri": "https://localhost:8080/"
        },
        "id": "6u4yqjtWHsfL",
        "outputId": "b9bb42ed-5670-4f8f-a875-537df7cc9f39"
      },
      "execution_count": null,
      "outputs": [
        {
          "output_type": "stream",
          "name": "stdout",
          "text": [
            "39/39 [==============================] - 0s 5ms/step\n",
            "AUC: 0.6976243111623734\n",
            "0.6976243111623734\n"
          ]
        }
      ]
    },
    {
      "cell_type": "markdown",
      "metadata": {
        "id": "0zrYV9tjAViP"
      },
      "source": [
        "7. Comparación del rendimiento de las  redes neuronales en el conjunto test mediante  curvas ROC y\n",
        "métricas de calidad.\n"
      ]
    },
    {
      "cell_type": "markdown",
      "metadata": {
        "id": "Odgc86Ygad8s"
      },
      "source": [
        "Se muestran también las curvas de accuracy y loss:"
      ]
    },
    {
      "cell_type": "code",
      "source": [
        "#model 4 TRAINING TEST, NO VALIDATION\n",
        "\n",
        "y_pred_keras4 = keras_model4.predict(x_test).ravel()\n",
        "\n",
        "fpr_keras4, tpr_keras4, thresholds_keras4 = roc_curve(y_test, y_pred_keras4)\n",
        "\n",
        "auc_keras4 = auc(fpr_keras4, tpr_keras4)\n",
        "\n",
        "\n",
        "plt.figure(1)\n",
        "plt.plot([0, 1], [0, 1], 'k--')\n",
        "plt.plot(fpr_keras4, tpr_keras4, label='Keras4 (area = {:.3f})'.format(auc_keras4))\n",
        "\n",
        "plt.xlabel('False positive rate')\n",
        "plt.ylabel('True positive rate')\n",
        "plt.title('ROC curve')\n",
        "plt.legend(loc='best')\n",
        "\n",
        "plt.savefig('ROC_curve.pdf', format='pdf', bbox_inches='tight')\n",
        "\n",
        "plt.show()\n"
      ],
      "metadata": {
        "colab": {
          "base_uri": "https://localhost:8080/",
          "height": 216
        },
        "id": "JsWB5u_RGw_z",
        "outputId": "f6bbb853-52f4-42c5-b53d-96d1377db80a"
      },
      "execution_count": null,
      "outputs": [
        {
          "output_type": "error",
          "ename": "NameError",
          "evalue": "name 'keras_model4' is not defined",
          "traceback": [
            "\u001b[0;31m---------------------------------------------------------------------------\u001b[0m",
            "\u001b[0;31mNameError\u001b[0m                                 Traceback (most recent call last)",
            "\u001b[0;32m<ipython-input-45-16da63bcd154>\u001b[0m in \u001b[0;36m<cell line: 3>\u001b[0;34m()\u001b[0m\n\u001b[1;32m      1\u001b[0m \u001b[0;31m#model 4 TRAINING TEST, NO VALIDATION\u001b[0m\u001b[0;34m\u001b[0m\u001b[0;34m\u001b[0m\u001b[0m\n\u001b[1;32m      2\u001b[0m \u001b[0;34m\u001b[0m\u001b[0m\n\u001b[0;32m----> 3\u001b[0;31m \u001b[0my_pred_keras4\u001b[0m \u001b[0;34m=\u001b[0m \u001b[0mkeras_model4\u001b[0m\u001b[0;34m.\u001b[0m\u001b[0mpredict\u001b[0m\u001b[0;34m(\u001b[0m\u001b[0mx_test\u001b[0m\u001b[0;34m)\u001b[0m\u001b[0;34m.\u001b[0m\u001b[0mravel\u001b[0m\u001b[0;34m(\u001b[0m\u001b[0;34m)\u001b[0m\u001b[0;34m\u001b[0m\u001b[0;34m\u001b[0m\u001b[0m\n\u001b[0m\u001b[1;32m      4\u001b[0m \u001b[0;34m\u001b[0m\u001b[0m\n\u001b[1;32m      5\u001b[0m \u001b[0mfpr_keras4\u001b[0m\u001b[0;34m,\u001b[0m \u001b[0mtpr_keras4\u001b[0m\u001b[0;34m,\u001b[0m \u001b[0mthresholds_keras4\u001b[0m \u001b[0;34m=\u001b[0m \u001b[0mroc_curve\u001b[0m\u001b[0;34m(\u001b[0m\u001b[0my_test\u001b[0m\u001b[0;34m,\u001b[0m \u001b[0my_pred_keras4\u001b[0m\u001b[0;34m)\u001b[0m\u001b[0;34m\u001b[0m\u001b[0;34m\u001b[0m\u001b[0m\n",
            "\u001b[0;31mNameError\u001b[0m: name 'keras_model4' is not defined"
          ]
        }
      ]
    },
    {
      "cell_type": "code",
      "source": [],
      "metadata": {
        "id": "bg5sVMeT_yXg"
      },
      "execution_count": null,
      "outputs": []
    },
    {
      "cell_type": "code",
      "execution_count": null,
      "metadata": {
        "id": "yqBzt2j5Dpy3"
      },
      "outputs": [],
      "source": [
        "def plot_prediction(n_epochs, mfit):\n",
        "    N = n_epochs\n",
        "    plt.style.use(\"ggplot\")\n",
        "    fig, (ax1, ax2) = plt.subplots(1, 2, figsize=(15,6))\n",
        "    fig.suptitle('Training Loss and Accuracy')\n",
        "\n",
        "    ax1.plot(np.arange(0, N), mfit.history[\"accuracy\"], label=\"train\")\n",
        "    ax1.plot(np.arange(0, N), mfit.history[\"val_accuracy\"], label=\"val\")\n",
        "    ax1.set_title(\"Accuracy\")\n",
        "    ax1.set_xlabel(\"Epoch #\")\n",
        "    ax1.set_ylabel(\"Accuracy\")\n",
        "    ax1.legend(loc=\"lower right\")\n",
        "\n",
        "    ax2.plot(np.arange(0, N), mfit.history[\"loss\"], label=\"train\")\n",
        "    ax2.plot(np.arange(0, N), mfit.history[\"val_loss\"], label=\"val\")\n",
        "    ax2.set_title(\"Loss\")\n",
        "    ax2.set_xlabel(\"Epoch #\")\n",
        "    ax2.set_ylabel(\"Loss\")\n",
        "    ax2.legend(loc=\"upper right\")\n",
        "\n",
        "    plt.savefig('grafico_epochs.pdf', format='pdf', bbox_inches='tight')\n",
        "\n",
        "    plt.show()\n"
      ]
    },
    {
      "cell_type": "code",
      "execution_count": null,
      "metadata": {
        "colab": {
          "base_uri": "https://localhost:8080/",
          "height": 606
        },
        "id": "qVmSP_9iGw8U",
        "outputId": "d5ab85de-52ab-471d-e743-634dc76d3b50"
      },
      "outputs": [
        {
          "output_type": "display_data",
          "data": {
            "text/plain": [
              "<Figure size 1500x600 with 2 Axes>"
            ],
            "image/png": "[encoded data removed]"
          },
          "metadata": {}
        }
      ],
      "source": [
        "plot_prediction(100, history)\n",
        "#plot_prediction(150, mfit4)\n",
        "#plot_prediction(100, mfit4)\n",
        "\n"
      ]
    },
    {
      "cell_type": "markdown",
      "metadata": {
        "id": "zb5jl0V6g3K8"
      },
      "source": [
        "Se utilizan las métricas y matrices de confusión para visualizar los resultados de las redes con mejores resultados:"
      ]
    },
    {
      "cell_type": "code",
      "execution_count": null,
      "metadata": {
        "colab": {
          "base_uri": "https://localhost:8080/",
          "height": 216
        },
        "id": "qigi-87bfzGT",
        "outputId": "a1bc0592-f411-4147-c630-46f221a1c2b1"
      },
      "outputs": [
        {
          "output_type": "error",
          "ename": "NameError",
          "evalue": "name 'keras_model4' is not defined",
          "traceback": [
            "\u001b[0;31m---------------------------------------------------------------------------\u001b[0m",
            "\u001b[0;31mNameError\u001b[0m                                 Traceback (most recent call last)",
            "\u001b[0;32m<ipython-input-46-73f59eef3614>\u001b[0m in \u001b[0;36m<cell line: 2>\u001b[0;34m()\u001b[0m\n\u001b[1;32m      1\u001b[0m \u001b[0;31m###### FIGURA TABLAS DE PRECISION MODELO NORMAL SIN PREDICCIONES\u001b[0m\u001b[0;34m\u001b[0m\u001b[0;34m\u001b[0m\u001b[0m\n\u001b[0;32m----> 2\u001b[0;31m \u001b[0my_pred\u001b[0m \u001b[0;34m=\u001b[0m \u001b[0mkeras_model4\u001b[0m\u001b[0;34m.\u001b[0m\u001b[0mpredict\u001b[0m\u001b[0;34m(\u001b[0m\u001b[0mx_test\u001b[0m\u001b[0;34m)\u001b[0m\u001b[0;34m\u001b[0m\u001b[0;34m\u001b[0m\u001b[0m\n\u001b[0m\u001b[1;32m      3\u001b[0m \u001b[0my_pred\u001b[0m \u001b[0;34m=\u001b[0m \u001b[0mnp\u001b[0m\u001b[0;34m.\u001b[0m\u001b[0mround\u001b[0m\u001b[0;34m(\u001b[0m\u001b[0my_pred\u001b[0m\u001b[0;34m)\u001b[0m\u001b[0;34m.\u001b[0m\u001b[0mastype\u001b[0m\u001b[0;34m(\u001b[0m\u001b[0mint\u001b[0m\u001b[0;34m)\u001b[0m\u001b[0;34m.\u001b[0m\u001b[0mreshape\u001b[0m\u001b[0;34m(\u001b[0m\u001b[0;34m-\u001b[0m\u001b[0;36m1\u001b[0m\u001b[0;34m)\u001b[0m\u001b[0;34m\u001b[0m\u001b[0;34m\u001b[0m\u001b[0m\n\u001b[1;32m      4\u001b[0m \u001b[0;34m\u001b[0m\u001b[0m\n\u001b[1;32m      5\u001b[0m \u001b[0;32mfrom\u001b[0m \u001b[0msklearn\u001b[0m\u001b[0;34m.\u001b[0m\u001b[0mmetrics\u001b[0m \u001b[0;32mimport\u001b[0m \u001b[0mclassification_report\u001b[0m\u001b[0;34m,\u001b[0m\u001b[0mconfusion_matrix\u001b[0m\u001b[0;34m\u001b[0m\u001b[0;34m\u001b[0m\u001b[0m\n",
            "\u001b[0;31mNameError\u001b[0m: name 'keras_model4' is not defined"
          ]
        }
      ],
      "source": [
        "###### FIGURA TABLAS DE PRECISION MODELO NORMAL SIN PREDICCIONES\n",
        "y_pred = keras_model4.predict(x_test)\n",
        "y_pred = np.round(y_pred).astype(int).reshape(-1)\n",
        "\n",
        "from sklearn.metrics import classification_report,confusion_matrix\n",
        "print(classification_report(y_test, y_pred, target_names = ['(Class 0)','(Class 1)']))\n",
        "\n",
        "cm = confusion_matrix(y_test,y_pred)\n",
        "cm\n",
        "\n",
        "cm = pd.DataFrame(cm , index = ['0','1'] , columns = ['0','1'])\n",
        "\n",
        "plt.figure(figsize = (10,10))\n",
        "#sns.heatmap(cm,cmap= \"RdBu\", linecolor = 'black' , linewidth = 1 , annot = True, fmt='',xticklabels = labels,yticklabels = labels)"
      ]
    },
    {
      "cell_type": "code",
      "source": [
        "###### FIGURA TABLAS DE PRECISION VALIDATION SETS\n",
        "\n",
        "y2_pred = model.predict(X_pred)\n",
        "y2_pred = np.round(y2_pred).astype(int).reshape(-1)\n",
        "\n",
        "from sklearn.metrics import classification_report,confusion_matrix\n",
        "print(classification_report(y_pred, y2_pred, target_names = ['(Class 0)','(Class 1)']))\n",
        "\n",
        "cm = confusion_matrix(y_pred,y2_pred)\n",
        "cm\n",
        "\n",
        "cm = pd.DataFrame(cm , index = ['0','1'] , columns = ['0','1'])\n",
        "\n",
        "plt.figure(figsize = (10,10))\n",
        "#sns.heatmap(cm,cmap= \"RdBu\", linecolor = 'black' , linewidth = 1 , annot = True, fmt='',xticklabels = labels,yticklabels = labels)"
      ],
      "metadata": {
        "colab": {
          "base_uri": "https://localhost:8080/",
          "height": 359
        },
        "id": "k9TDWUhZAdC-",
        "outputId": "6ec4e3db-9b03-4cc3-ce41-2cee909f1c6c"
      },
      "execution_count": null,
      "outputs": [
        {
          "output_type": "stream",
          "name": "stdout",
          "text": [
            "\u001b[1m3/3\u001b[0m \u001b[32m━━━━━━━━━━━━━━━━━━━━\u001b[0m\u001b[37m\u001b[0m \u001b[1m0s\u001b[0m 3ms/step \n",
            "              precision    recall  f1-score   support\n",
            "\n",
            "   (Class 0)       1.00      0.37      0.54        73\n",
            "   (Class 1)       0.00      0.00      0.00         0\n",
            "\n",
            "    accuracy                           0.37        73\n",
            "   macro avg       0.50      0.18      0.27        73\n",
            "weighted avg       1.00      0.37      0.54        73\n",
            "\n"
          ]
        },
        {
          "output_type": "stream",
          "name": "stderr",
          "text": [
            "/usr/local/lib/python3.10/dist-packages/sklearn/metrics/_classification.py:1565: UndefinedMetricWarning: Recall is ill-defined and being set to 0.0 in labels with no true samples. Use `zero_division` parameter to control this behavior.\n",
            "  _warn_prf(average, modifier, f\"{metric.capitalize()} is\", len(result))\n",
            "/usr/local/lib/python3.10/dist-packages/sklearn/metrics/_classification.py:1565: UndefinedMetricWarning: Recall is ill-defined and being set to 0.0 in labels with no true samples. Use `zero_division` parameter to control this behavior.\n",
            "  _warn_prf(average, modifier, f\"{metric.capitalize()} is\", len(result))\n",
            "/usr/local/lib/python3.10/dist-packages/sklearn/metrics/_classification.py:1565: UndefinedMetricWarning: Recall is ill-defined and being set to 0.0 in labels with no true samples. Use `zero_division` parameter to control this behavior.\n",
            "  _warn_prf(average, modifier, f\"{metric.capitalize()} is\", len(result))\n"
          ]
        },
        {
          "output_type": "execute_result",
          "data": {
            "text/plain": [
              "<Figure size 1000x1000 with 0 Axes>"
            ]
          },
          "metadata": {},
          "execution_count": 47
        },
        {
          "output_type": "display_data",
          "data": {
            "text/plain": [
              "<Figure size 1000x1000 with 0 Axes>"
            ]
          },
          "metadata": {}
        }
      ]
    },
    {
      "cell_type": "code",
      "source": [
        "##### FIGURA MATRIZ CONFUSION\n",
        "\n",
        "import seaborn as sns\n",
        "import matplotlib.pyplot as plt\n",
        "\n",
        "# Supongo que ya tienes la matriz de confusión 'cm' creada\n",
        "\n",
        "plt.figure(figsize=(8, 6))\n",
        "sns.heatmap(cm, annot=True, fmt='d', cmap='turbo', linewidths=.5, cbar=True, square=True)\n",
        "plt.xlabel('Predicción')\n",
        "plt.ylabel('Valor Real')\n",
        "plt.title('Matriz de Confusión')\n",
        "plt.savefig('CM_grafico.pdf', format='pdf', bbox_inches='tight')\n",
        "\n",
        "plt.show()"
      ],
      "metadata": {
        "colab": {
          "base_uri": "https://localhost:8080/",
          "height": 564
        },
        "id": "5t554PEyENQ_",
        "outputId": "b58fe5ed-66bf-4d1c-fd9d-d5a935646352"
      },
      "execution_count": null,
      "outputs": [
        {
          "output_type": "display_data",
          "data": {
            "text/plain": [
              "<Figure size 800x600 with 2 Axes>"
            ],
            "image/png": "[encoded data removed]"
          },
          "metadata": {}
        }
      ]
    },
    {
      "cell_type": "code",
      "source": [
        "for layer in modelo.layers:\n",
        "    print(layer.name)\n",
        "\n"
      ],
      "metadata": {
        "colab": {
          "base_uri": "https://localhost:8080/"
        },
        "id": "hn9dC5CtUjjR",
        "outputId": "f6becdd4-6a48-4bf6-d83a-3589c89c5ad8"
      },
      "execution_count": null,
      "outputs": [
        {
          "output_type": "stream",
          "name": "stdout",
          "text": [
            "random_flip_1\n",
            "conv2d_4\n",
            "conv2d_5\n",
            "max_pooling2d_3\n",
            "dropout_4\n",
            "conv2d_6\n",
            "max_pooling2d_4\n",
            "dropout_5\n",
            "conv2d_7\n",
            "max_pooling2d_5\n",
            "dropout_6\n",
            "flatten_1\n",
            "dense_2\n",
            "dropout_7\n",
            "dense_3\n"
          ]
        }
      ]
    },
    {
      "cell_type": "code",
      "source": [],
      "metadata": {
        "id": "rOZHsEYPWrt5"
      },
      "execution_count": null,
      "outputs": []
    }
  ],
  "metadata": {
    "accelerator": "GPU",
    "colab": {
      "provenance": [],
      "include_colab_link": true
    },
    "kernelspec": {
      "display_name": "Python 3",
      "name": "python3"
    },
    "language_info": {
      "name": "python"
    }
  },
  "nbformat": 4,
  "nbformat_minor": 0
}